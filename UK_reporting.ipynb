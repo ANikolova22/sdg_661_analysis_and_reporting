{
 "cells": [
  {
   "cell_type": "markdown",
   "metadata": {},
   "source": [
    "# SDG 6.6.1: Analysis and Reporting"
   ]
  },
  {
   "cell_type": "markdown",
   "metadata": {},
   "source": [
    "## Extracting GSWE data"
   ]
  },
  {
   "cell_type": "code",
   "execution_count": 1,
   "metadata": {},
   "outputs": [
    {
     "data": {
      "text/html": [
       "<p>To authorize access needed by Earth Engine, open the following\n",
       "        URL in a web browser and follow the instructions:</p>\n",
       "        <p><a href=https://accounts.google.com/o/oauth2/auth?client_id=517222506229-vsmmajv00ul0bs7p89v5m89qs8eb9359.apps.googleusercontent.com&scope=https%3A%2F%2Fwww.googleapis.com%2Fauth%2Fearthengine+https%3A%2F%2Fwww.googleapis.com%2Fauth%2Fdevstorage.full_control&redirect_uri=urn%3Aietf%3Awg%3Aoauth%3A2.0%3Aoob&response_type=code&code_challenge=xoRdPXW4MvcUAhZjswQGsI_6ghqOCiWQ5LX5jR5Kl6o&code_challenge_method=S256>https://accounts.google.com/o/oauth2/auth?client_id=517222506229-vsmmajv00ul0bs7p89v5m89qs8eb9359.apps.googleusercontent.com&scope=https%3A%2F%2Fwww.googleapis.com%2Fauth%2Fearthengine+https%3A%2F%2Fwww.googleapis.com%2Fauth%2Fdevstorage.full_control&redirect_uri=urn%3Aietf%3Awg%3Aoauth%3A2.0%3Aoob&response_type=code&code_challenge=xoRdPXW4MvcUAhZjswQGsI_6ghqOCiWQ5LX5jR5Kl6o&code_challenge_method=S256</a></p>\n",
       "        <p>The authorization workflow will generate a code, which you\n",
       "        should paste in the box below</p>\n",
       "        "
      ],
      "text/plain": [
       "<IPython.core.display.HTML object>"
      ]
     },
     "metadata": {},
     "output_type": "display_data"
    },
    {
     "name": "stdout",
     "output_type": "stream",
     "text": [
      "Enter verification code: 4/2wGV3zNgpMoIxr4dLR-nmMH39cMWuE1P605GiTzWxj2jWADrVZXtqXg\n",
      "\n",
      "Successfully saved authorization token.\n"
     ]
    }
   ],
   "source": [
    "import ee\n",
    "from GSWE_reporting import extract_gswe\n",
    "ee.Authenticate()"
   ]
  },
  {
   "cell_type": "code",
   "execution_count": 2,
   "metadata": {},
   "outputs": [],
   "source": [
    "ee.Initialize()  "
   ]
  },
  {
   "cell_type": "code",
   "execution_count": 3,
   "metadata": {},
   "outputs": [],
   "source": [
    "geometry = ee.Geometry.Polygon(\n",
    "        [[[-12.598544729822379, 61.78863494939058],\n",
    "          [-12.598544729822379, 49.00174346741333],\n",
    "          [3.749111520177621, 49.00174346741333],\n",
    "          [3.749111520177621, 61.78863494939058]]])"
   ]
  },
  {
   "cell_type": "code",
   "execution_count": 4,
   "metadata": {},
   "outputs": [
    {
     "name": "stdout",
     "output_type": "stream",
     "text": [
      "GSWE files are being extracted to GSWE_exports in your Google Drive\n"
     ]
    }
   ],
   "source": [
    "extract_gswe('JRC/GSW1_2/YearlyHistory', geometry, 1984, 2020, 'GSWE_exports')"
   ]
  },
  {
   "cell_type": "markdown",
   "metadata": {},
   "source": [
    "---\n",
    "## Preparing HydroBASIN boundary"
   ]
  },
  {
   "cell_type": "code",
   "execution_count": 5,
   "metadata": {},
   "outputs": [],
   "source": [
    "import geopandas as gpd\n",
    "from shapely.ops import unary_union\n",
    "from GSWE_reporting import clip_basin_to_boundary"
   ]
  },
  {
   "cell_type": "code",
   "execution_count": 6,
   "metadata": {},
   "outputs": [],
   "source": [
    "eu_hydrobasin = gpd.read_file('./boundaries/hybas_eu_lev06_v1c.shp')\n",
    "uk_boundary = gpd.read_file('./boundaries/Countries_December_2018_Boundaries_UK_BFC.shp') "
   ]
  },
  {
   "cell_type": "code",
   "execution_count": 7,
   "metadata": {},
   "outputs": [],
   "source": [
    "target_crs = ('+proj=utm +zone=30 +ellps=WGS84 +datum=WGS84 +units=m +no_defs ')\n",
    "osgb_proj4 = ('+proj=tmerc +lat_0=49 +lon_0=-2 +k=0.9996012717 +x_0=400000 +y_0=-100000 +ellps=airy +datum=OSGB36 +units=m +no_defs')\n",
    "uk_boundary.crs = osgb_proj4  "
   ]
  },
  {
   "cell_type": "code",
   "execution_count": 8,
   "metadata": {},
   "outputs": [
    {
     "name": "stdout",
     "output_type": "stream",
     "text": [
      "union national boundary\n"
     ]
    }
   ],
   "source": [
    "hydro_clipped = clip_basin_to_boundary(eu_hydrobasin, uk_boundary, target_crs)"
   ]
  },
  {
   "cell_type": "code",
   "execution_count": 9,
   "metadata": {},
   "outputs": [],
   "source": [
    "hydro_clipped = hydro_clipped.drop(hydro_clipped.columns[1:-1], axis=1) \n",
    "hydro_clipped.to_file('./boundaries/UK_hydrobasin_UTM.shp')"
   ]
  },
  {
   "cell_type": "markdown",
   "metadata": {},
   "source": [
    "---\n",
    "## Preparing GSWE outputs"
   ]
  },
  {
   "cell_type": "code",
   "execution_count": 1,
   "metadata": {},
   "outputs": [],
   "source": [
    "import geopandas as gpd\n",
    "from GSWE_reporting import get_gswe_paths, reproject_GSWE"
   ]
  },
  {
   "cell_type": "code",
   "execution_count": 2,
   "metadata": {},
   "outputs": [],
   "source": [
    "gsw_files = get_gswe_paths('./GSW_output/', '.tif')"
   ]
  },
  {
   "cell_type": "code",
   "execution_count": 4,
   "metadata": {},
   "outputs": [],
   "source": [
    "reproject_GSWE(gsw_files, '+proj=utm +zone=30 +ellps=WGS84 +datum=WGS84 +units=m +no_defs ')"
   ]
  },
  {
   "cell_type": "markdown",
   "metadata": {},
   "source": [
    "---\n",
    "## Calculating Water Extent"
   ]
  },
  {
   "cell_type": "code",
   "execution_count": 1,
   "metadata": {},
   "outputs": [],
   "source": [
    "import geopandas as gpd\n",
    "from GSWE_reporting import get_gswe_paths, surface_water_extent"
   ]
  },
  {
   "cell_type": "code",
   "execution_count": 2,
   "metadata": {},
   "outputs": [],
   "source": [
    "gsw_file_path_list = get_gswe_paths('./Reprojected/', 'UTM.tif')"
   ]
  },
  {
   "cell_type": "code",
   "execution_count": 3,
   "metadata": {},
   "outputs": [],
   "source": [
    "hydro_basin = gpd.read_file('./boundaries/UK_hydrobasin_UTM.shp')"
   ]
  },
  {
   "cell_type": "code",
   "execution_count": 4,
   "metadata": {
    "scrolled": true
   },
   "outputs": [
    {
     "name": "stdout",
     "output_type": "stream",
     "text": [
      "Calculating water extent in 1984\n",
      "Calculating water extent in 1985\n",
      "Calculating water extent in 1986\n",
      "Calculating water extent in 1987\n",
      "Calculating water extent in 1988\n",
      "Calculating water extent in 1989\n",
      "Calculating water extent in 1990\n",
      "Calculating water extent in 1991\n",
      "Calculating water extent in 1992\n",
      "Calculating water extent in 1993\n",
      "Calculating water extent in 1994\n",
      "Calculating water extent in 1995\n",
      "Calculating water extent in 1996\n",
      "Calculating water extent in 1997\n",
      "Calculating water extent in 1998\n",
      "Calculating water extent in 1999\n",
      "Calculating water extent in 2000\n",
      "Calculating water extent in 2001\n",
      "Calculating water extent in 2002\n",
      "Calculating water extent in 2003\n",
      "Calculating water extent in 2004\n",
      "Calculating water extent in 2005\n",
      "Calculating water extent in 2006\n",
      "Calculating water extent in 2007\n",
      "Calculating water extent in 2008\n",
      "Calculating water extent in 2009\n",
      "Calculating water extent in 2010\n",
      "Calculating water extent in 2011\n",
      "Calculating water extent in 2012\n",
      "Calculating water extent in 2013\n",
      "Calculating water extent in 2014\n",
      "Calculating water extent in 2015\n",
      "Calculating water extent in 2016\n",
      "Calculating water extent in 2017\n",
      "Calculating water extent in 2018\n",
      "Calculating water extent in 2019\n",
      "Calculating water extent in baseline\n"
     ]
    }
   ],
   "source": [
    "water_extent = surface_water_extent(gsw_file_path_list, hydro_basin)"
   ]
  },
  {
   "cell_type": "code",
   "execution_count": 5,
   "metadata": {},
   "outputs": [],
   "source": [
    "hydro_basin['area'] = hydro_basin.area / 1000000\n",
    "water_extent = hydro_basin[['HYBAS_ID', 'area']].merge(water_extent, on='HYBAS_ID', how = 'left')\n",
    "water_extent[['% Ephemeral', '% Seasonal', '% Permanent']] = water_extent[['Ephemeral', 'Seasonal', 'Permanent']].div(water_extent['area'], axis=0)*100"
   ]
  },
  {
   "cell_type": "code",
   "execution_count": 6,
   "metadata": {},
   "outputs": [],
   "source": [
    "water_extent.to_csv('./water_type_by_basin.csv', index = False)"
   ]
  },
  {
   "cell_type": "markdown",
   "metadata": {},
   "source": [
    "### National Water Extent"
   ]
  },
  {
   "cell_type": "code",
   "execution_count": 1,
   "metadata": {},
   "outputs": [],
   "source": [
    "import pandas as pd\n",
    "import altair as alt"
   ]
  },
  {
   "cell_type": "code",
   "execution_count": 2,
   "metadata": {},
   "outputs": [],
   "source": [
    "water_extent = pd.read_csv('./water_type_by_basin.csv')"
   ]
  },
  {
   "cell_type": "code",
   "execution_count": 3,
   "metadata": {},
   "outputs": [],
   "source": [
    "water_extent['HYBAS_ID'] = water_extent[\"HYBAS_ID\"].apply(str)"
   ]
  },
  {
   "cell_type": "code",
   "execution_count": 4,
   "metadata": {},
   "outputs": [],
   "source": [
    "baseline = water_extent[water_extent['Year'] == 'baseline']\n",
    "water_type_df = water_extent[water_extent['Year'] != 'baseline'] \n",
    "water_type_by_year = water_type_df.groupby(['Year'], as_index=False).sum() "
   ]
  },
  {
   "cell_type": "code",
   "execution_count": 5,
   "metadata": {},
   "outputs": [
    {
     "data": {
      "text/html": [
       "\n",
       "<div id=\"altair-viz-1f2800b175d54790866b28074b420710\"></div>\n",
       "<script type=\"text/javascript\">\n",
       "  (function(spec, embedOpt){\n",
       "    let outputDiv = document.currentScript.previousElementSibling;\n",
       "    if (outputDiv.id !== \"altair-viz-1f2800b175d54790866b28074b420710\") {\n",
       "      outputDiv = document.getElementById(\"altair-viz-1f2800b175d54790866b28074b420710\");\n",
       "    }\n",
       "    const paths = {\n",
       "      \"vega\": \"https://cdn.jsdelivr.net/npm//vega@5?noext\",\n",
       "      \"vega-lib\": \"https://cdn.jsdelivr.net/npm//vega-lib?noext\",\n",
       "      \"vega-lite\": \"https://cdn.jsdelivr.net/npm//vega-lite@4.8.1?noext\",\n",
       "      \"vega-embed\": \"https://cdn.jsdelivr.net/npm//vega-embed@6?noext\",\n",
       "    };\n",
       "\n",
       "    function loadScript(lib) {\n",
       "      return new Promise(function(resolve, reject) {\n",
       "        var s = document.createElement('script');\n",
       "        s.src = paths[lib];\n",
       "        s.async = true;\n",
       "        s.onload = () => resolve(paths[lib]);\n",
       "        s.onerror = () => reject(`Error loading script: ${paths[lib]}`);\n",
       "        document.getElementsByTagName(\"head\")[0].appendChild(s);\n",
       "      });\n",
       "    }\n",
       "\n",
       "    function showError(err) {\n",
       "      outputDiv.innerHTML = `<div class=\"error\" style=\"color:red;\">${err}</div>`;\n",
       "      throw err;\n",
       "    }\n",
       "\n",
       "    function displayChart(vegaEmbed) {\n",
       "      vegaEmbed(outputDiv, spec, embedOpt)\n",
       "        .catch(err => showError(`Javascript Error: ${err.message}<br>This usually means there's a typo in your chart specification. See the javascript console for the full traceback.`));\n",
       "    }\n",
       "\n",
       "    if(typeof define === \"function\" && define.amd) {\n",
       "      requirejs.config({paths});\n",
       "      require([\"vega-embed\"], displayChart, err => showError(`Error loading script: ${err.message}`));\n",
       "    } else if (typeof vegaEmbed === \"function\") {\n",
       "      displayChart(vegaEmbed);\n",
       "    } else {\n",
       "      loadScript(\"vega\")\n",
       "        .then(() => loadScript(\"vega-lite\"))\n",
       "        .then(() => loadScript(\"vega-embed\"))\n",
       "        .catch(showError)\n",
       "        .then(() => displayChart(vegaEmbed));\n",
       "    }\n",
       "  })({\"config\": {\"view\": {\"continuousWidth\": 400, \"continuousHeight\": 300}}, \"data\": {\"name\": \"data-d671d4d6087123335597daabaaf42169\"}, \"mark\": {\"type\": \"bar\", \"opacity\": 0.7}, \"encoding\": {\"color\": {\"type\": \"nominal\", \"field\": \"Type\", \"scale\": {\"domain\": [\"Permanent\", \"Ephemeral\", \"Seasonal\"], \"range\": [\"#1f78b4\", \"#b2df8a\", \"#a6cee3\"]}, \"title\": \"Water Type\"}, \"order\": {\"type\": \"nominal\", \"aggregate\": \"sum\", \"field\": \"Type\", \"sort\": \"ascending\"}, \"tooltip\": [{\"type\": \"nominal\", \"field\": \"Year\"}, {\"type\": \"quantitative\", \"field\": \"Extent\", \"title\": \"Extent\"}], \"x\": {\"type\": \"nominal\", \"field\": \"Year\", \"title\": \"Year\"}, \"y\": {\"type\": \"quantitative\", \"aggregate\": \"sum\", \"field\": \"Extent\", \"title\": \"Water Extent (km\\u00b2)\"}}, \"selection\": {\"selector001\": {\"type\": \"interval\", \"bind\": \"scales\", \"encodings\": [\"x\", \"y\"]}}, \"$schema\": \"https://vega.github.io/schema/vega-lite/v4.8.1.json\", \"datasets\": {\"data-d671d4d6087123335597daabaaf42169\": [{\"Year\": \"1984\", \"Type\": \"Ephemeral\", \"Extent\": 325.37839316832105}, {\"Year\": \"1985\", \"Type\": \"Ephemeral\", \"Extent\": 287.8073336261212}, {\"Year\": \"1986\", \"Type\": \"Ephemeral\", \"Extent\": 284.8348753597758}, {\"Year\": \"1987\", \"Type\": \"Ephemeral\", \"Extent\": 245.20644112691477}, {\"Year\": \"1988\", \"Type\": \"Ephemeral\", \"Extent\": 245.2246802642433}, {\"Year\": \"1989\", \"Type\": \"Ephemeral\", \"Extent\": 278.22396975548793}, {\"Year\": \"1990\", \"Type\": \"Ephemeral\", \"Extent\": 256.67312620627405}, {\"Year\": \"1991\", \"Type\": \"Ephemeral\", \"Extent\": 0.0}, {\"Year\": \"1992\", \"Type\": \"Ephemeral\", \"Extent\": 0.0}, {\"Year\": \"1993\", \"Type\": \"Ephemeral\", \"Extent\": 0.0}, {\"Year\": \"1994\", \"Type\": \"Ephemeral\", \"Extent\": 244.0542487659593}, {\"Year\": \"1995\", \"Type\": \"Ephemeral\", \"Extent\": 0.0}, {\"Year\": \"1996\", \"Type\": \"Ephemeral\", \"Extent\": 0.0}, {\"Year\": \"1997\", \"Type\": \"Ephemeral\", \"Extent\": 182.32936021865578}, {\"Year\": \"1998\", \"Type\": \"Ephemeral\", \"Extent\": 260.5606680483037}, {\"Year\": \"1999\", \"Type\": \"Ephemeral\", \"Extent\": 395.87787012528884}, {\"Year\": \"2000\", \"Type\": \"Ephemeral\", \"Extent\": 289.09032665763306}, {\"Year\": \"2001\", \"Type\": \"Ephemeral\", \"Extent\": 311.39366490120216}, {\"Year\": \"2002\", \"Type\": \"Ephemeral\", \"Extent\": 311.35666550833554}, {\"Year\": \"2003\", \"Type\": \"Ephemeral\", \"Extent\": 304.62017041558545}, {\"Year\": \"2004\", \"Type\": \"Ephemeral\", \"Extent\": 258.695064858697}, {\"Year\": \"2005\", \"Type\": \"Ephemeral\", \"Extent\": 245.06052802828629}, {\"Year\": \"2006\", \"Type\": \"Ephemeral\", \"Extent\": 287.60253416983204}, {\"Year\": \"2007\", \"Type\": \"Ephemeral\", \"Extent\": 236.4485284999509}, {\"Year\": \"2008\", \"Type\": \"Ephemeral\", \"Extent\": 249.36704891066339}, {\"Year\": \"2009\", \"Type\": \"Ephemeral\", \"Extent\": 295.7215558720869}, {\"Year\": \"2010\", \"Type\": \"Ephemeral\", \"Extent\": 424.9296891804243}, {\"Year\": \"2011\", \"Type\": \"Ephemeral\", \"Extent\": 276.849259919124}, {\"Year\": \"2012\", \"Type\": \"Ephemeral\", \"Extent\": 356.3104067229261}, {\"Year\": \"2013\", \"Type\": \"Ephemeral\", \"Extent\": 261.86346357177194}, {\"Year\": \"2014\", \"Type\": \"Ephemeral\", \"Extent\": 219.4454835640604}, {\"Year\": \"2015\", \"Type\": \"Ephemeral\", \"Extent\": 247.42901028995178}, {\"Year\": \"2016\", \"Type\": \"Ephemeral\", \"Extent\": 209.8324159554919}, {\"Year\": \"2017\", \"Type\": \"Ephemeral\", \"Extent\": 252.2337201805032}, {\"Year\": \"2018\", \"Type\": \"Ephemeral\", \"Extent\": 228.61351622181206}, {\"Year\": \"2019\", \"Type\": \"Ephemeral\", \"Extent\": 259.9853535451404}, {\"Year\": \"1984\", \"Type\": \"Seasonal\", \"Extent\": 155.43080160470882}, {\"Year\": \"1985\", \"Type\": \"Seasonal\", \"Extent\": 210.4113782861213}, {\"Year\": \"1986\", \"Type\": \"Seasonal\", \"Extent\": 209.19196167615493}, {\"Year\": \"1987\", \"Type\": \"Seasonal\", \"Extent\": 254.3723893118288}, {\"Year\": \"1988\", \"Type\": \"Seasonal\", \"Extent\": 237.68045194694255}, {\"Year\": \"1989\", \"Type\": \"Seasonal\", \"Extent\": 288.5916165312492}, {\"Year\": \"1990\", \"Type\": \"Seasonal\", \"Extent\": 280.7378439975725}, {\"Year\": \"1991\", \"Type\": \"Seasonal\", \"Extent\": 0.0}, {\"Year\": \"1992\", \"Type\": \"Seasonal\", \"Extent\": 0.0}, {\"Year\": \"1993\", \"Type\": \"Seasonal\", \"Extent\": 0.0}, {\"Year\": \"1994\", \"Type\": \"Seasonal\", \"Extent\": 144.6108242231993}, {\"Year\": \"1995\", \"Type\": \"Seasonal\", \"Extent\": 0.0}, {\"Year\": \"1996\", \"Type\": \"Seasonal\", \"Extent\": 0.0}, {\"Year\": \"1997\", \"Type\": \"Seasonal\", \"Extent\": 36.35893858716487}, {\"Year\": \"1998\", \"Type\": \"Seasonal\", \"Extent\": 169.01635332343704}, {\"Year\": \"1999\", \"Type\": \"Seasonal\", \"Extent\": 81.85360050309939}, {\"Year\": \"2000\", \"Type\": \"Seasonal\", \"Extent\": 255.12592624260296}, {\"Year\": \"2001\", \"Type\": \"Seasonal\", \"Extent\": 172.43228318597116}, {\"Year\": \"2002\", \"Type\": \"Seasonal\", \"Extent\": 195.394314846206}, {\"Year\": \"2003\", \"Type\": \"Seasonal\", \"Extent\": 205.56810564807523}, {\"Year\": \"2004\", \"Type\": \"Seasonal\", \"Extent\": 91.81060612986352}, {\"Year\": \"2005\", \"Type\": \"Seasonal\", \"Extent\": 55.99519383508964}, {\"Year\": \"2006\", \"Type\": \"Seasonal\", \"Extent\": 83.80518819725502}, {\"Year\": \"2007\", \"Type\": \"Seasonal\", \"Extent\": 56.78208233126452}, {\"Year\": \"2008\", \"Type\": \"Seasonal\", \"Extent\": 30.87833837903809}, {\"Year\": \"2009\", \"Type\": \"Seasonal\", \"Extent\": 162.20638056316318}, {\"Year\": \"2010\", \"Type\": \"Seasonal\", \"Extent\": 112.97530108592136}, {\"Year\": \"2011\", \"Type\": \"Seasonal\", \"Extent\": 244.95734662282757}, {\"Year\": \"2012\", \"Type\": \"Seasonal\", \"Extent\": 106.8563310712951}, {\"Year\": \"2013\", \"Type\": \"Seasonal\", \"Extent\": 261.8947306643352}, {\"Year\": \"2014\", \"Type\": \"Seasonal\", \"Extent\": 334.8726458251492}, {\"Year\": \"2015\", \"Type\": \"Seasonal\", \"Extent\": 296.72783513441397}, {\"Year\": \"2016\", \"Type\": \"Seasonal\", \"Extent\": 407.78906903725544}, {\"Year\": \"2017\", \"Type\": \"Seasonal\", \"Extent\": 384.50811303287566}, {\"Year\": \"2018\", \"Type\": \"Seasonal\", \"Extent\": 397.66217887423124}, {\"Year\": \"2019\", \"Type\": \"Seasonal\", \"Extent\": 393.86166377317}, {\"Year\": \"1984\", \"Type\": \"Permanent\", \"Extent\": 1928.4719326236257}, {\"Year\": \"1985\", \"Type\": \"Permanent\", \"Extent\": 1849.8628140921714}, {\"Year\": \"1986\", \"Type\": \"Permanent\", \"Extent\": 1860.87925303862}, {\"Year\": \"1987\", \"Type\": \"Permanent\", \"Extent\": 2069.4073101160157}, {\"Year\": \"1988\", \"Type\": \"Permanent\", \"Extent\": 2088.7684149493834}, {\"Year\": \"1989\", \"Type\": \"Permanent\", \"Extent\": 2127.855407362692}, {\"Year\": \"1990\", \"Type\": \"Permanent\", \"Extent\": 2128.624056721538}, {\"Year\": \"1991\", \"Type\": \"Permanent\", \"Extent\": 0.0}, {\"Year\": \"1992\", \"Type\": \"Permanent\", \"Extent\": 0.0}, {\"Year\": \"1993\", \"Type\": \"Permanent\", \"Extent\": 0.0}, {\"Year\": \"1994\", \"Type\": \"Permanent\", \"Extent\": 1905.5401258195348}, {\"Year\": \"1995\", \"Type\": \"Permanent\", \"Extent\": 0.0}, {\"Year\": \"1996\", \"Type\": \"Permanent\", \"Extent\": 0.0}, {\"Year\": \"1997\", \"Type\": \"Permanent\", \"Extent\": 711.8928113073381}, {\"Year\": \"1998\", \"Type\": \"Permanent\", \"Extent\": 2003.6395865002844}, {\"Year\": \"1999\", \"Type\": \"Permanent\", \"Extent\": 1703.6172420461244}, {\"Year\": \"2000\", \"Type\": \"Permanent\", \"Extent\": 2114.2167015866053}, {\"Year\": \"2001\", \"Type\": \"Permanent\", \"Extent\": 2086.1305145734655}, {\"Year\": \"2002\", \"Type\": \"Permanent\", \"Extent\": 2144.7318205737006}, {\"Year\": \"2003\", \"Type\": \"Permanent\", \"Extent\": 2119.6196551815333}, {\"Year\": \"2004\", \"Type\": \"Permanent\", \"Extent\": 1452.9411441934797}, {\"Year\": \"2005\", \"Type\": \"Permanent\", \"Extent\": 606.1657433957853}, {\"Year\": \"2006\", \"Type\": \"Permanent\", \"Extent\": 1445.143131308207}, {\"Year\": \"2007\", \"Type\": \"Permanent\", \"Extent\": 1043.0431097628336}, {\"Year\": \"2008\", \"Type\": \"Permanent\", \"Extent\": 1011.261673526927}, {\"Year\": \"2009\", \"Type\": \"Permanent\", \"Extent\": 2127.800168832496}, {\"Year\": \"2010\", \"Type\": \"Permanent\", \"Extent\": 1841.9548452647184}, {\"Year\": \"2011\", \"Type\": \"Permanent\", \"Extent\": 2175.5111464929555}, {\"Year\": \"2012\", \"Type\": \"Permanent\", \"Extent\": 1882.5780941593}, {\"Year\": \"2013\", \"Type\": \"Permanent\", \"Extent\": 2190.0414855253025}, {\"Year\": \"2014\", \"Type\": \"Permanent\", \"Extent\": 2181.177785901833}, {\"Year\": \"2015\", \"Type\": \"Permanent\", \"Extent\": 2228.500009378089}, {\"Year\": \"2016\", \"Type\": \"Permanent\", \"Extent\": 2156.2480118829517}, {\"Year\": \"2017\", \"Type\": \"Permanent\", \"Extent\": 2132.5011761993796}, {\"Year\": \"2018\", \"Type\": \"Permanent\", \"Extent\": 2143.3430405456834}, {\"Year\": \"2019\", \"Type\": \"Permanent\", \"Extent\": 2122.2955971867414}]}}, {\"mode\": \"vega-lite\"});\n",
       "</script>"
      ],
      "text/plain": [
       "alt.Chart(...)"
      ]
     },
     "execution_count": 5,
     "metadata": {},
     "output_type": "execute_result"
    }
   ],
   "source": [
    "water_type_melt = pd.melt(water_type_by_year, id_vars=['Year'],value_vars=['Ephemeral', 'Seasonal', 'Permanent'],\n",
    "                          var_name='Type', value_name = 'Extent')\n",
    "\n",
    "alt.Chart(water_type_melt).mark_bar(opacity=0.7).encode(\n",
    "    x=alt.X('Year:N', title = 'Year'),\n",
    "    y=alt.Y('sum(Extent)', title = 'Water Extent (km\\N{SUPERSCRIPT TWO})'),\n",
    "    color=alt.Color('Type',\n",
    "        scale = alt.Scale(domain=['Permanent', 'Ephemeral', 'Seasonal'],\n",
    "                          range=['#1f78b4', '#b2df8a', '#a6cee3']),\n",
    "        title = 'Water Type'),\n",
    "    order=alt.Order('sum(Type)',sort='ascending'),\n",
    "    tooltip = ['Year:N', \n",
    "               alt.Tooltip('Extent:Q', title = 'Extent')]\n",
    ").interactive()"
   ]
  },
  {
   "cell_type": "code",
   "execution_count": 6,
   "metadata": {},
   "outputs": [],
   "source": [
    "water_type_by_year['HYBAS_ID'] = 'Total'\n",
    "water_type_by_year[['% Ephemeral', '% Seasonal', '% Permanent']] = water_type_by_year[['Ephemeral', 'Seasonal', 'Permanent']].div(water_type_by_year['area'], axis=0)*100\n",
    "water_type_by_basin = water_type_df.append(water_type_by_year, sort=False, ignore_index = True)\n",
    "water_type_by_basin.to_csv('./water_type_w_total.csv', header = True, index = False) "
   ]
  },
  {
   "cell_type": "code",
   "execution_count": null,
   "metadata": {},
   "outputs": [],
   "source": []
  }
 ],
 "metadata": {
  "kernelspec": {
   "display_name": "Python 3",
   "language": "python",
   "name": "python3"
  },
  "language_info": {
   "codemirror_mode": {
    "name": "ipython",
    "version": 3
   },
   "file_extension": ".py",
   "mimetype": "text/x-python",
   "name": "python",
   "nbconvert_exporter": "python",
   "pygments_lexer": "ipython3",
   "version": "3.8.1"
  }
 },
 "nbformat": 4,
 "nbformat_minor": 4
}
