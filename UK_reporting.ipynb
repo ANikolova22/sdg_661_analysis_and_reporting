{
 "cells": [
  {
   "cell_type": "markdown",
   "metadata": {
    "id": "JvxVumgxe7sq"
   },
   "source": [
    "# SDG 6.6.1: Analysis and Reporting"
   ]
  },
  {
   "cell_type": "markdown",
   "metadata": {
    "id": "Au6W-6bJyjPs"
   },
   "source": [
    "## Setup"
   ]
  },
  {
   "cell_type": "code",
   "execution_count": null,
   "metadata": {
    "id": "8cDf0AKce_Eb"
   },
   "outputs": [],
   "source": [
    "# Install required geospatial libraries\n",
    "!pip3 install gdal rtree geopandas rasterio"
   ]
  },
  {
   "cell_type": "code",
   "execution_count": null,
   "metadata": {
    "id": "bq6EtYypwGTL"
   },
   "outputs": [],
   "source": [
    "from configparser import ConfigParser\n",
    "from datetime import datetime\n",
    "import os\n",
    "\n",
    "import altair as alt\n",
    "import ee\n",
    "import geopandas as gpd\n",
    "from google.colab import drive\n",
    "import pandas as pd\n",
    "from shapely.ops import unary_union"
   ]
  },
  {
   "cell_type": "code",
   "execution_count": null,
   "metadata": {
    "id": "s0RQl2nMyNYk"
   },
   "outputs": [],
   "source": [
    "# Mount your Google Drive if not already done so\n",
    "# You may see a pop-up window in which to confirm access.\n",
    "drive.mount('drive')\n",
    "drive_home = '/content/drive/MyDrive'"
   ]
  },
  {
   "cell_type": "code",
   "execution_count": null,
   "metadata": {
    "id": "rNi8P53gzDad"
   },
   "outputs": [],
   "source": [
    "# Set name of directory where repo is located. By default 'sdg_661_analysis_and_reporting'\n",
    "repo_dir_name = 'sdg_661_analysis_and_reporting'"
   ]
  },
  {
   "cell_type": "code",
   "execution_count": null,
   "metadata": {
    "colab": {
     "base_uri": "https://localhost:8080/"
    },
    "id": "x_oQr6L6fRj_",
    "outputId": "30f720a9-8275-4faf-9b28-a01c55e72fb8"
   },
   "outputs": [],
   "source": [
    "# Change working directory to repository directory\n",
    "repo_dir_path = os.path.join(drive_home, repo_dir_name)\n",
    "os.chdir(repo_dir_path)\n",
    "print(f'Current working directory set to: {os.path.abspath(os.curdir)}')"
   ]
  },
  {
   "cell_type": "code",
   "execution_count": null,
   "metadata": {
    "colab": {
     "base_uri": "https://localhost:8080/"
    },
    "id": "jHGhNAgXfewa",
    "outputId": "a92018aa-5a5a-444d-e04e-c671acc46878"
   },
   "outputs": [],
   "source": [
    "# Can now import the GSWE library\n",
    "from GSWE_reporting import (extract_gswe, clip_basin_to_boundary,\n",
    "                            get_gswe_paths, reproject_GSWE,\n",
    "                            surface_water_extent)"
   ]
  },
  {
   "cell_type": "code",
   "execution_count": null,
   "metadata": {},
   "outputs": [],
   "source": [
    "# Parse asset IDs\n",
    "conf = ConfigParser()\n",
    "conf.read('gswe_versions.cfg')\n",
    "GSWE_MONTHLY = conf.get('GSWE', 'MonthlyAssetID')\n",
    "GSWE_YEARLY = conf.get('GSWE', 'YearlyAssetID')\n",
    "\n",
    "print('Using Asset IDs:',\n",
    "      f'Monthly = {GSWE_MONTHLY}',\n",
    "      f'Yearly = {GSWE_YEARLY}',\n",
    "      sep='\\n\\t'\n",
    "     )"
   ]
  },
  {
   "cell_type": "code",
   "execution_count": null,
   "metadata": {
    "id": "HtNKkayfe7ss"
   },
   "outputs": [],
   "source": [
    "# Autheticate Earth Engine access\n",
    "# Follow the link below to generate a verification code and enter in\n",
    "# the box provided and hit return.\n",
    "ee.Authenticate()"
   ]
  },
  {
   "cell_type": "code",
   "execution_count": null,
   "metadata": {
    "id": "NxiQY9Lye7su"
   },
   "outputs": [],
   "source": [
    "# Earth Engine requires initialisation\n",
    "ee.Initialize()"
   ]
  },
  {
   "cell_type": "markdown",
   "metadata": {
    "id": "5fsRunfOoEZL"
   },
   "source": [
    "## User Settings\n",
    "These settings allow the user to specify the analysis time frame and the names of the output files."
   ]
  },
  {
   "cell_type": "code",
   "execution_count": null,
   "metadata": {
    "id": "zLTZHLoXaB-q"
   },
   "outputs": [],
   "source": [
    "# Specify year range for analysis\n",
    "start_yr = 1984  # <<<< Inclusive\n",
    "end_yr = 2022  # <<<< Exclusive i.e. data in year == end_yr will be excluded\n",
    "\n",
    "# Output files\n",
    "# By default these are saved in repo_dir_path. If such files already exist they\n",
    "# will be overwritten!\n",
    "water_extent_file = './water_extent_by_basin_by_year.csv'\n",
    "water_extent_change_file = './water_extent_change.csv'"
   ]
  },
  {
   "cell_type": "markdown",
   "metadata": {
    "id": "3LeRISige7ss"
   },
   "source": [
    "## Extracting GSWE data\n",
    "\n",
    "**NOTE:** Earth Engine behaves unpredictably when output directories already exist **ANYWHERE** in Google Drive. Forcing a unique name ensures that imagery is exported where expected; the export directory is always created at the Drive root i.e. `content/drive/MyDrive/<gswe_export_dir>`.\n",
    "\n",
    "See the [documentation](https://developers.google.com/earth-engine/apidocs/export-image-todrive) for more information."
   ]
  },
  {
   "cell_type": "code",
   "execution_count": null,
   "metadata": {},
   "outputs": [],
   "source": [
    "# Get current datetime as string\n",
    "now_str = datetime.now().strftime('%y%m%d%H%M%S')"
   ]
  },
  {
   "cell_type": "code",
   "execution_count": null,
   "metadata": {},
   "outputs": [],
   "source": [
    "# Generate unique export directory name using datetime\n",
    "gswe_export_dir = f'gswe_exports_{now_str}'"
   ]
  },
  {
   "cell_type": "code",
   "execution_count": null,
   "metadata": {
    "id": "3-ewJgtDe7sv"
   },
   "outputs": [],
   "source": [
    "# Create a bounding box geometry for the UK\n",
    "geometry = ee.Geometry.Polygon(\n",
    "        [[[-12.598544729822379, 61.78863494939058],\n",
    "          [-12.598544729822379, 49.00174346741333],\n",
    "          [3.749111520177621, 49.00174346741333],\n",
    "          [3.749111520177621, 61.78863494939058]]])"
   ]
  },
  {
   "cell_type": "code",
   "execution_count": null,
   "metadata": {
    "id": "QzhoHmVle7sv"
   },
   "outputs": [],
   "source": [
    "# Extract the GWSE imagery from Earth Engine.\n",
    "assert start_yr is not None and end_yr is not None\n",
    "extract_gswe(GSWE_YEARLY, geometry, start_yr, end_yr, gswe_export_dir)"
   ]
  },
  {
   "cell_type": "markdown",
   "metadata": {
    "id": "fL-vpIVghFqX"
   },
   "source": [
    "This will start background tasks for downloading the imagery to your drive. You can check the status of these tasks at https://code.earthengine.google.com/tasks. Note that this may take some time."
   ]
  },
  {
   "cell_type": "markdown",
   "metadata": {
    "id": "t0ZIQCnSe7sw"
   },
   "source": [
    "---\n",
    "## Preparing HydroBASIN boundary\n",
    "\n",
    "This step can be done while the GSWE imagery is processing."
   ]
  },
  {
   "cell_type": "code",
   "execution_count": null,
   "metadata": {
    "id": "rUry4yhie7sx"
   },
   "outputs": [],
   "source": [
    "# Load hydrobasins\n",
    "eu_hydrobasin = gpd.read_file('./boundaries/hybas_eu_lev06_v1c.shp')\n",
    "\n",
    "# Load UK boundary\n",
    "uk_boundary = gpd.read_file('./boundaries/Countries_December_2018_Boundaries_UK_BFC.shp') "
   ]
  },
  {
   "cell_type": "code",
   "execution_count": null,
   "metadata": {
    "id": "VH5iRoKHe7sy"
   },
   "outputs": [],
   "source": [
    "# Configure coordinate reference systems\n",
    "target_crs = ('+proj=utm +zone=30 +ellps=WGS84 +datum=WGS84 +units=m +no_defs ')\n",
    "osgb_proj4 = ('+proj=tmerc +lat_0=49 +lon_0=-2 +k=0.9996012717 +x_0=400000 +y_0=-100000 +ellps=airy +datum=OSGB36 +units=m +no_defs')\n",
    "uk_boundary.crs = osgb_proj4  "
   ]
  },
  {
   "cell_type": "code",
   "execution_count": null,
   "metadata": {
    "colab": {
     "base_uri": "https://localhost:8080/"
    },
    "id": "MFYe8EVXe7sy",
    "outputId": "c5ae12b8-a439-4aa2-d36f-25fa0bb85894"
   },
   "outputs": [],
   "source": [
    "# Clip the hydrobasins by the UK boundary\n",
    "hydro_clipped = clip_basin_to_boundary(eu_hydrobasin, uk_boundary, target_crs)"
   ]
  },
  {
   "cell_type": "code",
   "execution_count": null,
   "metadata": {
    "id": "0_7a0J_ye7sz"
   },
   "outputs": [],
   "source": [
    "# Clean and save file\n",
    "hydro_clipped = hydro_clipped.drop(hydro_clipped.columns[1:-1], axis=1) \n",
    "hydro_clipped.to_file('./boundaries/UK_hydrobasin_UTM.shp')"
   ]
  },
  {
   "cell_type": "markdown",
   "metadata": {
    "id": "z396dqZye7sz"
   },
   "source": [
    "---\n",
    "## Preparing GSWE outputs"
   ]
  },
  {
   "cell_type": "code",
   "execution_count": null,
   "metadata": {
    "colab": {
     "base_uri": "https://localhost:8080/"
    },
    "id": "ybU6pU7ce7s1",
    "outputId": "2a18fdd1-4b01-4244-84d1-ab16b78cfde8"
   },
   "outputs": [],
   "source": [
    "# Get paths to exported images\n",
    "export_dir_path = os.path.join(drive_home, gswe_export_dir)\n",
    "gsw_files = get_gswe_paths(export_dir_path, '.tif')\n",
    "print(f'Found {len(gsw_files)} images.')"
   ]
  },
  {
   "cell_type": "markdown",
   "metadata": {},
   "source": [
    "**NOTE:** Only continue once the imagery is available\n",
    "\n",
    "The remaining cells of the notebook can be run without intervention by selecting `Runtime -> Run after` from the menu bar. However, users are encouraged to step through the cells to follow the process. Outputs will be created in the locations specified in [User Settings](#User-Settings) above."
   ]
  },
  {
   "cell_type": "code",
   "execution_count": null,
   "metadata": {
    "id": "lidTt75he7s1"
   },
   "outputs": [],
   "source": [
    "# Reproject images to UTM for valid area calculations\n",
    "# These files will be saved repo_dir_path/Reprojected/\n",
    "reproject_GSWE(gsw_files, '+proj=utm +zone=30 +ellps=WGS84 +datum=WGS84 +units=m +no_defs ')"
   ]
  },
  {
   "cell_type": "markdown",
   "metadata": {
    "id": "SowWa1vme7s1"
   },
   "source": [
    "---\n",
    "## Calculating Water Extent"
   ]
  },
  {
   "cell_type": "code",
   "execution_count": null,
   "metadata": {
    "colab": {
     "base_uri": "https://localhost:8080/"
    },
    "id": "Ukcmf05qe7s2",
    "outputId": "8a216e2d-06fc-4577-dda4-7522422f4931"
   },
   "outputs": [],
   "source": [
    "# Get paths to the reprojected images\n",
    "gsw_file_path_list = get_gswe_paths('./Reprojected/', 'UTM.tif')\n",
    "print(f'Found {len(gsw_file_path_list)} reprojected images.')"
   ]
  },
  {
   "cell_type": "code",
   "execution_count": null,
   "metadata": {
    "id": "axAMG9Mwe7s3"
   },
   "outputs": [],
   "source": [
    "# Read in the hydrobasin file created in section Preparing HydroBASIN boundary\n",
    "hydro_basin = gpd.read_file('./boundaries/UK_hydrobasin_UTM.shp')"
   ]
  },
  {
   "cell_type": "code",
   "execution_count": null,
   "metadata": {
    "id": "yrNkf8eFe7s3"
   },
   "outputs": [],
   "source": [
    "# Calculate the water extent by type for each hydrobasin for each year\n",
    "water_extent = surface_water_extent(gsw_file_path_list, hydro_basin)"
   ]
  },
  {
   "cell_type": "code",
   "execution_count": null,
   "metadata": {
    "id": "Nd9spy-ASjVD"
   },
   "outputs": [],
   "source": [
    "# Preview results\n",
    "water_extent.head()"
   ]
  },
  {
   "cell_type": "code",
   "execution_count": null,
   "metadata": {
    "id": "6d9qOPpqe7s3"
   },
   "outputs": [],
   "source": [
    "# Calculate water extent as percentage of hydrobasin area\n",
    "hydro_basin['area'] = hydro_basin.area / 1000000\n",
    "water_extent = hydro_basin[['HYBAS_ID', 'area']].merge(water_extent, on='HYBAS_ID', how = 'left')\n",
    "water_extent[['% Ephemeral', '% Seasonal', '% Permanent']] = water_extent[['Ephemeral', 'Seasonal', 'Permanent']].div(water_extent['area'], axis=0)*100"
   ]
  },
  {
   "cell_type": "code",
   "execution_count": null,
   "metadata": {
    "colab": {
     "base_uri": "https://localhost:8080/",
     "height": 206
    },
    "id": "si1Qjkb4SscK",
    "outputId": "f7dfa94d-460e-4124-fbac-2eaaa6bb2e27"
   },
   "outputs": [
    {
     "data": {
      "text/html": [
       "\n",
       "  <div id=\"df-3b9bf863-e073-4a61-b6c3-1a4c34a5b293\">\n",
       "    <div class=\"colab-df-container\">\n",
       "      <div>\n",
       "<style scoped>\n",
       "    .dataframe tbody tr th:only-of-type {\n",
       "        vertical-align: middle;\n",
       "    }\n",
       "\n",
       "    .dataframe tbody tr th {\n",
       "        vertical-align: top;\n",
       "    }\n",
       "\n",
       "    .dataframe thead th {\n",
       "        text-align: right;\n",
       "    }\n",
       "</style>\n",
       "<table border=\"1\" class=\"dataframe\">\n",
       "  <thead>\n",
       "    <tr style=\"text-align: right;\">\n",
       "      <th></th>\n",
       "      <th>HYBAS_ID</th>\n",
       "      <th>area</th>\n",
       "      <th>Year</th>\n",
       "      <th>Ephemeral</th>\n",
       "      <th>Seasonal</th>\n",
       "      <th>Permanent</th>\n",
       "      <th>% Ephemeral</th>\n",
       "      <th>% Seasonal</th>\n",
       "      <th>% Permanent</th>\n",
       "    </tr>\n",
       "  </thead>\n",
       "  <tbody>\n",
       "    <tr>\n",
       "      <th>0</th>\n",
       "      <td>2060048790</td>\n",
       "      <td>4569.73882</td>\n",
       "      <td>1984</td>\n",
       "      <td>2.810391</td>\n",
       "      <td>1.736887</td>\n",
       "      <td>3.386747</td>\n",
       "      <td>0.061500</td>\n",
       "      <td>0.038008</td>\n",
       "      <td>0.074112</td>\n",
       "    </tr>\n",
       "    <tr>\n",
       "      <th>1</th>\n",
       "      <td>2060048790</td>\n",
       "      <td>4569.73882</td>\n",
       "      <td>1985</td>\n",
       "      <td>2.571197</td>\n",
       "      <td>3.154850</td>\n",
       "      <td>3.879204</td>\n",
       "      <td>0.056266</td>\n",
       "      <td>0.069038</td>\n",
       "      <td>0.084889</td>\n",
       "    </tr>\n",
       "    <tr>\n",
       "      <th>2</th>\n",
       "      <td>2060048790</td>\n",
       "      <td>4569.73882</td>\n",
       "      <td>1986</td>\n",
       "      <td>3.083978</td>\n",
       "      <td>2.132416</td>\n",
       "      <td>3.560280</td>\n",
       "      <td>0.067487</td>\n",
       "      <td>0.046664</td>\n",
       "      <td>0.077910</td>\n",
       "    </tr>\n",
       "    <tr>\n",
       "      <th>3</th>\n",
       "      <td>2060048790</td>\n",
       "      <td>4569.73882</td>\n",
       "      <td>1987</td>\n",
       "      <td>2.735871</td>\n",
       "      <td>2.612366</td>\n",
       "      <td>3.802078</td>\n",
       "      <td>0.059869</td>\n",
       "      <td>0.057167</td>\n",
       "      <td>0.083201</td>\n",
       "    </tr>\n",
       "    <tr>\n",
       "      <th>4</th>\n",
       "      <td>2060048790</td>\n",
       "      <td>4569.73882</td>\n",
       "      <td>1988</td>\n",
       "      <td>2.205372</td>\n",
       "      <td>1.254853</td>\n",
       "      <td>3.036556</td>\n",
       "      <td>0.048260</td>\n",
       "      <td>0.027460</td>\n",
       "      <td>0.066449</td>\n",
       "    </tr>\n",
       "  </tbody>\n",
       "</table>\n",
       "</div>\n",
       "      <button class=\"colab-df-convert\" onclick=\"convertToInteractive('df-3b9bf863-e073-4a61-b6c3-1a4c34a5b293')\"\n",
       "              title=\"Convert this dataframe to an interactive table.\"\n",
       "              style=\"display:none;\">\n",
       "        \n",
       "  <svg xmlns=\"http://www.w3.org/2000/svg\" height=\"24px\"viewBox=\"0 0 24 24\"\n",
       "       width=\"24px\">\n",
       "    <path d=\"M0 0h24v24H0V0z\" fill=\"none\"/>\n",
       "    <path d=\"M18.56 5.44l.94 2.06.94-2.06 2.06-.94-2.06-.94-.94-2.06-.94 2.06-2.06.94zm-11 1L8.5 8.5l.94-2.06 2.06-.94-2.06-.94L8.5 2.5l-.94 2.06-2.06.94zm10 10l.94 2.06.94-2.06 2.06-.94-2.06-.94-.94-2.06-.94 2.06-2.06.94z\"/><path d=\"M17.41 7.96l-1.37-1.37c-.4-.4-.92-.59-1.43-.59-.52 0-1.04.2-1.43.59L10.3 9.45l-7.72 7.72c-.78.78-.78 2.05 0 2.83L4 21.41c.39.39.9.59 1.41.59.51 0 1.02-.2 1.41-.59l7.78-7.78 2.81-2.81c.8-.78.8-2.07 0-2.86zM5.41 20L4 18.59l7.72-7.72 1.47 1.35L5.41 20z\"/>\n",
       "  </svg>\n",
       "      </button>\n",
       "      \n",
       "  <style>\n",
       "    .colab-df-container {\n",
       "      display:flex;\n",
       "      flex-wrap:wrap;\n",
       "      gap: 12px;\n",
       "    }\n",
       "\n",
       "    .colab-df-convert {\n",
       "      background-color: #E8F0FE;\n",
       "      border: none;\n",
       "      border-radius: 50%;\n",
       "      cursor: pointer;\n",
       "      display: none;\n",
       "      fill: #1967D2;\n",
       "      height: 32px;\n",
       "      padding: 0 0 0 0;\n",
       "      width: 32px;\n",
       "    }\n",
       "\n",
       "    .colab-df-convert:hover {\n",
       "      background-color: #E2EBFA;\n",
       "      box-shadow: 0px 1px 2px rgba(60, 64, 67, 0.3), 0px 1px 3px 1px rgba(60, 64, 67, 0.15);\n",
       "      fill: #174EA6;\n",
       "    }\n",
       "\n",
       "    [theme=dark] .colab-df-convert {\n",
       "      background-color: #3B4455;\n",
       "      fill: #D2E3FC;\n",
       "    }\n",
       "\n",
       "    [theme=dark] .colab-df-convert:hover {\n",
       "      background-color: #434B5C;\n",
       "      box-shadow: 0px 1px 3px 1px rgba(0, 0, 0, 0.15);\n",
       "      filter: drop-shadow(0px 1px 2px rgba(0, 0, 0, 0.3));\n",
       "      fill: #FFFFFF;\n",
       "    }\n",
       "  </style>\n",
       "\n",
       "      <script>\n",
       "        const buttonEl =\n",
       "          document.querySelector('#df-3b9bf863-e073-4a61-b6c3-1a4c34a5b293 button.colab-df-convert');\n",
       "        buttonEl.style.display =\n",
       "          google.colab.kernel.accessAllowed ? 'block' : 'none';\n",
       "\n",
       "        async function convertToInteractive(key) {\n",
       "          const element = document.querySelector('#df-3b9bf863-e073-4a61-b6c3-1a4c34a5b293');\n",
       "          const dataTable =\n",
       "            await google.colab.kernel.invokeFunction('convertToInteractive',\n",
       "                                                     [key], {});\n",
       "          if (!dataTable) return;\n",
       "\n",
       "          const docLinkHtml = 'Like what you see? Visit the ' +\n",
       "            '<a target=\"_blank\" href=https://colab.research.google.com/notebooks/data_table.ipynb>data table notebook</a>'\n",
       "            + ' to learn more about interactive tables.';\n",
       "          element.innerHTML = '';\n",
       "          dataTable['output_type'] = 'display_data';\n",
       "          await google.colab.output.renderOutput(dataTable, element);\n",
       "          const docLink = document.createElement('div');\n",
       "          docLink.innerHTML = docLinkHtml;\n",
       "          element.appendChild(docLink);\n",
       "        }\n",
       "      </script>\n",
       "    </div>\n",
       "  </div>\n",
       "  "
      ],
      "text/plain": [
       "     HYBAS_ID        area  Year  ...  % Ephemeral  % Seasonal  % Permanent\n",
       "0  2060048790  4569.73882  1984  ...     0.061500    0.038008     0.074112\n",
       "1  2060048790  4569.73882  1985  ...     0.056266    0.069038     0.084889\n",
       "2  2060048790  4569.73882  1986  ...     0.067487    0.046664     0.077910\n",
       "3  2060048790  4569.73882  1987  ...     0.059869    0.057167     0.083201\n",
       "4  2060048790  4569.73882  1988  ...     0.048260    0.027460     0.066449\n",
       "\n",
       "[5 rows x 9 columns]"
      ]
     },
     "execution_count": 12,
     "metadata": {},
     "output_type": "execute_result"
    }
   ],
   "source": [
    "# Preview results\n",
    "water_extent.head()"
   ]
  },
  {
   "cell_type": "markdown",
   "metadata": {
    "id": "oJYSzcUoe7s3"
   },
   "source": [
    "### National Water Extent"
   ]
  },
  {
   "cell_type": "code",
   "execution_count": null,
   "metadata": {
    "id": "LC3jcMcNe7s4"
   },
   "outputs": [],
   "source": [
    "# Calculate national water extent\n",
    "water_extent['HYBAS_ID'] = water_extent[\"HYBAS_ID\"].apply(str)\n",
    "water_type_by_year = water_extent.groupby(['Year'], as_index=False).sum() "
   ]
  },
  {
   "cell_type": "code",
   "execution_count": null,
   "metadata": {
    "colab": {
     "base_uri": "https://localhost:8080/",
     "height": 206
    },
    "id": "-Gn0JRK4S914",
    "outputId": "0800b78d-ecd7-4f00-91e6-13cf04a5237e"
   },
   "outputs": [
    {
     "data": {
      "text/html": [
       "\n",
       "  <div id=\"df-863fb145-7eb7-47d7-8b76-ea080cc797d4\">\n",
       "    <div class=\"colab-df-container\">\n",
       "      <div>\n",
       "<style scoped>\n",
       "    .dataframe tbody tr th:only-of-type {\n",
       "        vertical-align: middle;\n",
       "    }\n",
       "\n",
       "    .dataframe tbody tr th {\n",
       "        vertical-align: top;\n",
       "    }\n",
       "\n",
       "    .dataframe thead th {\n",
       "        text-align: right;\n",
       "    }\n",
       "</style>\n",
       "<table border=\"1\" class=\"dataframe\">\n",
       "  <thead>\n",
       "    <tr style=\"text-align: right;\">\n",
       "      <th></th>\n",
       "      <th>Year</th>\n",
       "      <th>area</th>\n",
       "      <th>Ephemeral</th>\n",
       "      <th>Seasonal</th>\n",
       "      <th>Permanent</th>\n",
       "      <th>% Ephemeral</th>\n",
       "      <th>% Seasonal</th>\n",
       "      <th>% Permanent</th>\n",
       "    </tr>\n",
       "  </thead>\n",
       "  <tbody>\n",
       "    <tr>\n",
       "      <th>0</th>\n",
       "      <td>1984</td>\n",
       "      <td>244147.376651</td>\n",
       "      <td>325.378393</td>\n",
       "      <td>155.430802</td>\n",
       "      <td>1928.471933</td>\n",
       "      <td>4.889480</td>\n",
       "      <td>2.924425</td>\n",
       "      <td>48.755351</td>\n",
       "    </tr>\n",
       "    <tr>\n",
       "      <th>1</th>\n",
       "      <td>1985</td>\n",
       "      <td>244147.376651</td>\n",
       "      <td>287.807334</td>\n",
       "      <td>210.411378</td>\n",
       "      <td>1849.862814</td>\n",
       "      <td>9.629608</td>\n",
       "      <td>6.338746</td>\n",
       "      <td>54.330165</td>\n",
       "    </tr>\n",
       "    <tr>\n",
       "      <th>2</th>\n",
       "      <td>1986</td>\n",
       "      <td>244147.376651</td>\n",
       "      <td>284.834875</td>\n",
       "      <td>209.191962</td>\n",
       "      <td>1860.879253</td>\n",
       "      <td>5.149310</td>\n",
       "      <td>7.708008</td>\n",
       "      <td>57.129038</td>\n",
       "    </tr>\n",
       "    <tr>\n",
       "      <th>3</th>\n",
       "      <td>1987</td>\n",
       "      <td>244147.376651</td>\n",
       "      <td>245.206441</td>\n",
       "      <td>254.372389</td>\n",
       "      <td>2069.407310</td>\n",
       "      <td>4.520509</td>\n",
       "      <td>8.570212</td>\n",
       "      <td>59.629123</td>\n",
       "    </tr>\n",
       "    <tr>\n",
       "      <th>4</th>\n",
       "      <td>1988</td>\n",
       "      <td>244147.376651</td>\n",
       "      <td>245.224680</td>\n",
       "      <td>237.680452</td>\n",
       "      <td>2088.768415</td>\n",
       "      <td>7.842463</td>\n",
       "      <td>7.700770</td>\n",
       "      <td>56.639291</td>\n",
       "    </tr>\n",
       "  </tbody>\n",
       "</table>\n",
       "</div>\n",
       "      <button class=\"colab-df-convert\" onclick=\"convertToInteractive('df-863fb145-7eb7-47d7-8b76-ea080cc797d4')\"\n",
       "              title=\"Convert this dataframe to an interactive table.\"\n",
       "              style=\"display:none;\">\n",
       "        \n",
       "  <svg xmlns=\"http://www.w3.org/2000/svg\" height=\"24px\"viewBox=\"0 0 24 24\"\n",
       "       width=\"24px\">\n",
       "    <path d=\"M0 0h24v24H0V0z\" fill=\"none\"/>\n",
       "    <path d=\"M18.56 5.44l.94 2.06.94-2.06 2.06-.94-2.06-.94-.94-2.06-.94 2.06-2.06.94zm-11 1L8.5 8.5l.94-2.06 2.06-.94-2.06-.94L8.5 2.5l-.94 2.06-2.06.94zm10 10l.94 2.06.94-2.06 2.06-.94-2.06-.94-.94-2.06-.94 2.06-2.06.94z\"/><path d=\"M17.41 7.96l-1.37-1.37c-.4-.4-.92-.59-1.43-.59-.52 0-1.04.2-1.43.59L10.3 9.45l-7.72 7.72c-.78.78-.78 2.05 0 2.83L4 21.41c.39.39.9.59 1.41.59.51 0 1.02-.2 1.41-.59l7.78-7.78 2.81-2.81c.8-.78.8-2.07 0-2.86zM5.41 20L4 18.59l7.72-7.72 1.47 1.35L5.41 20z\"/>\n",
       "  </svg>\n",
       "      </button>\n",
       "      \n",
       "  <style>\n",
       "    .colab-df-container {\n",
       "      display:flex;\n",
       "      flex-wrap:wrap;\n",
       "      gap: 12px;\n",
       "    }\n",
       "\n",
       "    .colab-df-convert {\n",
       "      background-color: #E8F0FE;\n",
       "      border: none;\n",
       "      border-radius: 50%;\n",
       "      cursor: pointer;\n",
       "      display: none;\n",
       "      fill: #1967D2;\n",
       "      height: 32px;\n",
       "      padding: 0 0 0 0;\n",
       "      width: 32px;\n",
       "    }\n",
       "\n",
       "    .colab-df-convert:hover {\n",
       "      background-color: #E2EBFA;\n",
       "      box-shadow: 0px 1px 2px rgba(60, 64, 67, 0.3), 0px 1px 3px 1px rgba(60, 64, 67, 0.15);\n",
       "      fill: #174EA6;\n",
       "    }\n",
       "\n",
       "    [theme=dark] .colab-df-convert {\n",
       "      background-color: #3B4455;\n",
       "      fill: #D2E3FC;\n",
       "    }\n",
       "\n",
       "    [theme=dark] .colab-df-convert:hover {\n",
       "      background-color: #434B5C;\n",
       "      box-shadow: 0px 1px 3px 1px rgba(0, 0, 0, 0.15);\n",
       "      filter: drop-shadow(0px 1px 2px rgba(0, 0, 0, 0.3));\n",
       "      fill: #FFFFFF;\n",
       "    }\n",
       "  </style>\n",
       "\n",
       "      <script>\n",
       "        const buttonEl =\n",
       "          document.querySelector('#df-863fb145-7eb7-47d7-8b76-ea080cc797d4 button.colab-df-convert');\n",
       "        buttonEl.style.display =\n",
       "          google.colab.kernel.accessAllowed ? 'block' : 'none';\n",
       "\n",
       "        async function convertToInteractive(key) {\n",
       "          const element = document.querySelector('#df-863fb145-7eb7-47d7-8b76-ea080cc797d4');\n",
       "          const dataTable =\n",
       "            await google.colab.kernel.invokeFunction('convertToInteractive',\n",
       "                                                     [key], {});\n",
       "          if (!dataTable) return;\n",
       "\n",
       "          const docLinkHtml = 'Like what you see? Visit the ' +\n",
       "            '<a target=\"_blank\" href=https://colab.research.google.com/notebooks/data_table.ipynb>data table notebook</a>'\n",
       "            + ' to learn more about interactive tables.';\n",
       "          element.innerHTML = '';\n",
       "          dataTable['output_type'] = 'display_data';\n",
       "          await google.colab.output.renderOutput(dataTable, element);\n",
       "          const docLink = document.createElement('div');\n",
       "          docLink.innerHTML = docLinkHtml;\n",
       "          element.appendChild(docLink);\n",
       "        }\n",
       "      </script>\n",
       "    </div>\n",
       "  </div>\n",
       "  "
      ],
      "text/plain": [
       "   Year           area   Ephemeral  ...  % Ephemeral  % Seasonal  % Permanent\n",
       "0  1984  244147.376651  325.378393  ...     4.889480    2.924425    48.755351\n",
       "1  1985  244147.376651  287.807334  ...     9.629608    6.338746    54.330165\n",
       "2  1986  244147.376651  284.834875  ...     5.149310    7.708008    57.129038\n",
       "3  1987  244147.376651  245.206441  ...     4.520509    8.570212    59.629123\n",
       "4  1988  244147.376651  245.224680  ...     7.842463    7.700770    56.639291\n",
       "\n",
       "[5 rows x 8 columns]"
      ]
     },
     "execution_count": 14,
     "metadata": {},
     "output_type": "execute_result"
    }
   ],
   "source": [
    "# Preview Results - note that the percentages are recalculated in a later step\n",
    "water_type_by_year.head()"
   ]
  },
  {
   "cell_type": "code",
   "execution_count": null,
   "metadata": {
    "colab": {
     "base_uri": "https://localhost:8080/",
     "height": 377
    },
    "id": "uokH8BmKe7s4",
    "outputId": "97f0fc6a-84a7-4e84-b059-cf1b3bcfc90a"
   },
   "outputs": [],
   "source": [
    "# Visualise total UK area of water types by year\n",
    "water_type_melt = pd.melt(water_type_by_year[water_type_by_year['Year']!='baseline'], id_vars=['Year'],\n",
    "                          value_vars=['Ephemeral', 'Seasonal', 'Permanent'],\n",
    "                          var_name='Type', value_name = 'Extent')\n",
    "\n",
    "alt.Chart(water_type_melt).mark_bar(opacity=0.7).encode(\n",
    "    x=alt.X('Year:N', title = 'Year'),\n",
    "    y=alt.Y('sum(Extent)', title = 'Water Extent (km\\N{SUPERSCRIPT TWO})'),\n",
    "    color=alt.Color('Type',\n",
    "        scale = alt.Scale(domain=['Permanent', 'Ephemeral', 'Seasonal'],\n",
    "                          range=['#1f78b4', '#b2df8a', '#a6cee3']),\n",
    "        title = 'Water Type'),\n",
    "    order=alt.Order('sum(Type)',sort='ascending'),\n",
    "    tooltip = ['Year:N', \n",
    "               alt.Tooltip('Extent:Q', title = 'Extent')]\n",
    ").interactive()"
   ]
  },
  {
   "cell_type": "code",
   "execution_count": null,
   "metadata": {
    "id": "u56d57GEe7s4"
   },
   "outputs": [],
   "source": [
    "# Recalculate percentage breakdown\n",
    "water_type_by_year['HYBAS_ID'] = 'Total'\n",
    "water_type_by_year[['% Ephemeral', '% Seasonal', '% Permanent']] = water_type_by_year[['Ephemeral', 'Seasonal', 'Permanent']].div(water_type_by_year['area'], axis=0)*100\n",
    "water_type_by_basin = water_extent.append(water_type_by_year, sort=False, ignore_index = True)"
   ]
  },
  {
   "cell_type": "code",
   "execution_count": null,
   "metadata": {
    "id": "aYlZff_r_tNc"
   },
   "outputs": [],
   "source": [
    "# Export result\n",
    "water_type_by_basin.to_csv(water_extent_file, header = True, index = False) "
   ]
  },
  {
   "cell_type": "markdown",
   "metadata": {
    "id": "13YVCsgne7s5"
   },
   "source": [
    "---\n",
    "\n",
    "## Percentage Extent Change"
   ]
  },
  {
   "cell_type": "code",
   "execution_count": null,
   "metadata": {
    "id": "dUmwfbtre7s5"
   },
   "outputs": [],
   "source": [
    "# Load the water extent file\n",
    "water_extent_df = pd.read_csv(water_extent_file)\n",
    "water_extent_df = water_extent_df[['HYBAS_ID', 'Year', 'Ephemeral', 'Seasonal', 'Permanent']]"
   ]
  },
  {
   "cell_type": "code",
   "execution_count": null,
   "metadata": {
    "id": "MUZKWnQFe7s6",
    "scrolled": false
   },
   "outputs": [],
   "source": [
    "# Calculate change from baseline period\n",
    "cols = [ 'Water Type', 'HYBAS_ID','Year', 'Average Extent', '% Extent Change']\n",
    "water_extent_change = pd.DataFrame(columns = cols)\n",
    "\n",
    "\n",
    "def get_year_range(from_year):\n",
    "    to_year = str(int(from_year)+4)\n",
    "    return f\"{from_year}-{to_year}\"\n",
    "\n",
    "\n",
    "for basin in water_extent_df['HYBAS_ID'].unique():\n",
    "    hydrobasin_extent = water_extent_df[water_extent_df['HYBAS_ID']==basin]\n",
    "    \n",
    "    ## Seperate hydrobasin and baseline\n",
    "    baseline = hydrobasin_extent[hydrobasin_extent['Year']=='baseline'].reset_index(drop=True)\n",
    "    hydrobasin_extent = hydrobasin_extent[hydrobasin_extent['Year']!='baseline']  \n",
    "\n",
    "    ## Create rolling average\n",
    "    rolling_av = (hydrobasin_extent[['Ephemeral', 'Seasonal', 'Permanent']]\n",
    "                  .rolling(5)\n",
    "                  .mean()\n",
    "                  .dropna()\n",
    "                 .reset_index(drop=True))\n",
    "    \n",
    "    rolling_av['HYBAS_ID'] = basin\n",
    "    rolling_av['Year'] = hydrobasin_extent.apply(lambda x :get_year_range(x[\"Year\"]), axis=1).reset_index(drop=True)[:-4]\n",
    "    \n",
    "    ## Melt and index both rolling and baseline with water type\n",
    "    rolling_melt = pd.melt(rolling_av, id_vars=['HYBAS_ID', 'Year'], value_vars=['Ephemeral', 'Seasonal', 'Permanent'],\n",
    "                          var_name='Water Type', value_name='Average Extent').set_index(['Water Type', 'Year'])\n",
    "    \n",
    "    baseline_melt = pd.melt(baseline, id_vars=['HYBAS_ID', 'Year'], value_vars=['Ephemeral', 'Seasonal', 'Permanent'],\n",
    "                          var_name='Water Type', value_name='Average Extent').set_index('Water Type')\n",
    "    \n",
    "    ## Calculate extent change - index will divide the rolling average by the correct water type\n",
    "    extent_change = (((rolling_melt['Average Extent']-baseline_melt['Average Extent'])\n",
    "                     /baseline_melt['Average Extent']*100).reset_index()['Average Extent'])\n",
    "    rolling_melt = rolling_melt.reset_index()\n",
    "    \n",
    "    rolling_melt['% Extent Change'] = extent_change\n",
    "    \n",
    "    water_extent_change = pd.concat([water_extent_change, rolling_melt, baseline_melt.reset_index()])\n"
   ]
  },
  {
   "cell_type": "code",
   "execution_count": null,
   "metadata": {
    "id": "eM145Dw6e7s6"
   },
   "outputs": [],
   "source": [
    "## we should exclude years where the GSWE data is marred by cloud cover\n",
    "exclude_years = [str(i) for i in list(range(1991, 1998)) + list(range(2004,2009))]\n",
    "water_extent_change = water_extent_change[~water_extent_change['Year'].str.contains('|'.join(exclude_years))]"
   ]
  },
  {
   "cell_type": "code",
   "execution_count": null,
   "metadata": {
    "id": "z9GBjmQTe7s7"
   },
   "outputs": [],
   "source": [
    "# Export result\n",
    "water_extent_change.to_csv(water_extent_change_file, index = False)"
   ]
  }
 ],
 "metadata": {
  "colab": {
   "collapsed_sections": [],
   "name": "UK_reporting.ipynb",
   "provenance": []
  },
  "kernelspec": {
   "display_name": "Python 3",
   "language": "python",
   "name": "python3"
  },
  "language_info": {
   "codemirror_mode": {
    "name": "ipython",
    "version": 3
   },
   "file_extension": ".py",
   "mimetype": "text/x-python",
   "name": "python",
   "nbconvert_exporter": "python",
   "pygments_lexer": "ipython3",
   "version": "3.8.2"
  }
 },
 "nbformat": 4,
 "nbformat_minor": 1
}
