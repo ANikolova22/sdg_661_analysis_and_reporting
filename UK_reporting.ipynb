{
 "cells": [
  {
   "cell_type": "markdown",
   "metadata": {},
   "source": [
    "# SDG 6.6.1: Analysis and Reporting"
   ]
  },
  {
   "cell_type": "markdown",
   "metadata": {},
   "source": [
    "## Extracting GSWE data"
   ]
  },
  {
   "cell_type": "code",
   "execution_count": 1,
   "metadata": {},
   "outputs": [
    {
     "data": {
      "text/html": [
       "<p>To authorize access needed by Earth Engine, open the following\n",
       "        URL in a web browser and follow the instructions:</p>\n",
       "        <p><a href=https://accounts.google.com/o/oauth2/auth?client_id=517222506229-vsmmajv00ul0bs7p89v5m89qs8eb9359.apps.googleusercontent.com&scope=https%3A%2F%2Fwww.googleapis.com%2Fauth%2Fearthengine+https%3A%2F%2Fwww.googleapis.com%2Fauth%2Fdevstorage.full_control&redirect_uri=urn%3Aietf%3Awg%3Aoauth%3A2.0%3Aoob&response_type=code&code_challenge=xoRdPXW4MvcUAhZjswQGsI_6ghqOCiWQ5LX5jR5Kl6o&code_challenge_method=S256>https://accounts.google.com/o/oauth2/auth?client_id=517222506229-vsmmajv00ul0bs7p89v5m89qs8eb9359.apps.googleusercontent.com&scope=https%3A%2F%2Fwww.googleapis.com%2Fauth%2Fearthengine+https%3A%2F%2Fwww.googleapis.com%2Fauth%2Fdevstorage.full_control&redirect_uri=urn%3Aietf%3Awg%3Aoauth%3A2.0%3Aoob&response_type=code&code_challenge=xoRdPXW4MvcUAhZjswQGsI_6ghqOCiWQ5LX5jR5Kl6o&code_challenge_method=S256</a></p>\n",
       "        <p>The authorization workflow will generate a code, which you\n",
       "        should paste in the box below</p>\n",
       "        "
      ],
      "text/plain": [
       "<IPython.core.display.HTML object>"
      ]
     },
     "metadata": {},
     "output_type": "display_data"
    },
    {
     "name": "stdout",
     "output_type": "stream",
     "text": [
      "Enter verification code: 4/2wGV3zNgpMoIxr4dLR-nmMH39cMWuE1P605GiTzWxj2jWADrVZXtqXg\n",
      "\n",
      "Successfully saved authorization token.\n"
     ]
    }
   ],
   "source": [
    "import ee\n",
    "from GSWE_reporting import extract_gswe\n",
    "ee.Authenticate()"
   ]
  },
  {
   "cell_type": "code",
   "execution_count": 2,
   "metadata": {},
   "outputs": [],
   "source": [
    "ee.Initialize()  "
   ]
  },
  {
   "cell_type": "code",
   "execution_count": 3,
   "metadata": {},
   "outputs": [],
   "source": [
    "geometry = ee.Geometry.Polygon(\n",
    "        [[[-12.598544729822379, 61.78863494939058],\n",
    "          [-12.598544729822379, 49.00174346741333],\n",
    "          [3.749111520177621, 49.00174346741333],\n",
    "          [3.749111520177621, 61.78863494939058]]])"
   ]
  },
  {
   "cell_type": "code",
   "execution_count": 4,
   "metadata": {},
   "outputs": [
    {
     "name": "stdout",
     "output_type": "stream",
     "text": [
      "GSWE files are being extracted to GSWE_exports in your Google Drive\n"
     ]
    }
   ],
   "source": [
    "extract_gswe('JRC/GSW1_2/YearlyHistory', geometry, 1984, 2020, 'GSWE_exports')"
   ]
  },
  {
   "cell_type": "markdown",
   "metadata": {},
   "source": [
    "---\n",
    "## Preparing HydroBASIN boundary"
   ]
  },
  {
   "cell_type": "code",
   "execution_count": 5,
   "metadata": {},
   "outputs": [],
   "source": [
    "import geopandas as gpd\n",
    "from shapely.ops import unary_union\n",
    "from GSWE_reporting import clip_basin_to_boundary"
   ]
  },
  {
   "cell_type": "code",
   "execution_count": 6,
   "metadata": {},
   "outputs": [],
   "source": [
    "eu_hydrobasin = gpd.read_file('./boundaries/hybas_eu_lev06_v1c.shp')\n",
    "uk_boundary = gpd.read_file('./boundaries/Countries_December_2018_Boundaries_UK_BFC.shp') "
   ]
  },
  {
   "cell_type": "code",
   "execution_count": 7,
   "metadata": {},
   "outputs": [],
   "source": [
    "target_crs = ('+proj=utm +zone=30 +ellps=WGS84 +datum=WGS84 +units=m +no_defs ')\n",
    "osgb_proj4 = ('+proj=tmerc +lat_0=49 +lon_0=-2 +k=0.9996012717 +x_0=400000 +y_0=-100000 +ellps=airy +datum=OSGB36 +units=m +no_defs')\n",
    "uk_boundary.crs = osgb_proj4  "
   ]
  },
  {
   "cell_type": "code",
   "execution_count": 8,
   "metadata": {},
   "outputs": [
    {
     "name": "stdout",
     "output_type": "stream",
     "text": [
      "union national boundary\n"
     ]
    }
   ],
   "source": [
    "hydro_clipped = clip_basin_to_boundary(eu_hydrobasin, uk_boundary, target_crs)"
   ]
  },
  {
   "cell_type": "code",
   "execution_count": 9,
   "metadata": {},
   "outputs": [],
   "source": [
    "hydro_clipped = hydro_clipped.drop(hydro_clipped.columns[1:-1], axis=1) \n",
    "hydro_clipped.to_file('./boundaries/UK_hydrobasin_UTM.shp')"
   ]
  },
  {
   "cell_type": "markdown",
   "metadata": {},
   "source": [
    "---\n",
    "## Preparing GSWE outputs"
   ]
  },
  {
   "cell_type": "code",
   "execution_count": 1,
   "metadata": {},
   "outputs": [],
   "source": [
    "import geopandas as gpd\n",
    "from GSWE_reporting import get_gswe_paths, reproject_GSWE"
   ]
  },
  {
   "cell_type": "code",
   "execution_count": 2,
   "metadata": {},
   "outputs": [],
   "source": [
    "gsw_files = get_gswe_paths('./GSW_output/', '.tif')"
   ]
  },
  {
   "cell_type": "code",
   "execution_count": 4,
   "metadata": {},
   "outputs": [],
   "source": [
    "reproject_GSWE(gsw_files, '+proj=utm +zone=30 +ellps=WGS84 +datum=WGS84 +units=m +no_defs ')"
   ]
  },
  {
   "cell_type": "markdown",
   "metadata": {},
   "source": [
    "---\n",
    "## Calculating Water Extent"
   ]
  },
  {
   "cell_type": "code",
   "execution_count": 2,
   "metadata": {},
   "outputs": [],
   "source": [
    "from GSWE_reporting import surface_water_extent"
   ]
  },
  {
   "cell_type": "code",
   "execution_count": 3,
   "metadata": {},
   "outputs": [],
   "source": [
    "gsw_file_path_list = get_gswe_paths('./Reprojected/', 'UTM.tif')"
   ]
  },
  {
   "cell_type": "code",
   "execution_count": 4,
   "metadata": {},
   "outputs": [],
   "source": [
    "hydro_basin = gpd.read_file('./boundaries/UK_hydrobasin_UTM.shp')"
   ]
  },
  {
   "cell_type": "code",
   "execution_count": 5,
   "metadata": {
    "scrolled": true
   },
   "outputs": [
    {
     "name": "stdout",
     "output_type": "stream",
     "text": [
      "Calculating water extent in 1984\n",
      "Calculating water extent in 1985\n",
      "Calculating water extent in 1986\n",
      "Calculating water extent in 1987\n",
      "Calculating water extent in 1988\n",
      "Calculating water extent in 1989\n",
      "Calculating water extent in 1990\n",
      "Calculating water extent in 1991\n",
      "Calculating water extent in 1992\n",
      "Calculating water extent in 1993\n",
      "Calculating water extent in 1994\n",
      "Calculating water extent in 1995\n",
      "Calculating water extent in 1996\n",
      "Calculating water extent in 1997\n",
      "Calculating water extent in 1998\n",
      "Calculating water extent in 1999\n",
      "Calculating water extent in 2000\n",
      "Calculating water extent in 2001\n",
      "Calculating water extent in 2002\n",
      "Calculating water extent in 2003\n",
      "Calculating water extent in 2004\n",
      "Calculating water extent in 2005\n",
      "Calculating water extent in 2006\n",
      "Calculating water extent in 2007\n",
      "Calculating water extent in 2008\n",
      "Calculating water extent in 2009\n",
      "Calculating water extent in 2010\n",
      "Calculating water extent in 2011\n",
      "Calculating water extent in 2012\n",
      "Calculating water extent in 2013\n",
      "Calculating water extent in 2014\n",
      "Calculating water extent in 2015\n",
      "Calculating water extent in 2016\n",
      "Calculating water extent in 2017\n",
      "Calculating water extent in 2018\n",
      "Calculating water extent in 2019\n",
      "Calculating water extent in baseline\n"
     ]
    }
   ],
   "source": [
    "water_extent = surface_water_extent(gsw_file_path_list, hydro_basin)"
   ]
  },
  {
   "cell_type": "code",
   "execution_count": 14,
   "metadata": {},
   "outputs": [],
   "source": [
    "water_extent.to_csv('./water_type_by_basin.csv', index = False)"
   ]
  },
  {
   "cell_type": "markdown",
   "metadata": {},
   "source": [
    "### National Water Extent"
   ]
  },
  {
   "cell_type": "code",
   "execution_count": 6,
   "metadata": {},
   "outputs": [],
   "source": [
    "import pandas as pd\n",
    "import altair as alt"
   ]
  },
  {
   "cell_type": "code",
   "execution_count": 7,
   "metadata": {},
   "outputs": [],
   "source": [
    "water_extent['HYBAS_ID'] = water_extent[\"HYBAS_ID\"].apply(str)"
   ]
  },
  {
   "cell_type": "code",
   "execution_count": 8,
   "metadata": {},
   "outputs": [],
   "source": [
    "baseline = water_extent[water_extent['Year'] == 'baseline']\n",
    "water_type_df = water_extent[water_extent['Year'] != 'baseline'] \n",
    "water_type_by_year = water_type_df.groupby(['Year'], as_index=False).sum() "
   ]
  },
  {
   "cell_type": "code",
   "execution_count": 12,
   "metadata": {},
   "outputs": [
    {
     "data": {
      "text/html": [
       "\n",
       "<div id=\"altair-viz-786d9b4091e34b71a3eed96d30bc0d25\"></div>\n",
       "<script type=\"text/javascript\">\n",
       "  (function(spec, embedOpt){\n",
       "    const outputDiv = document.getElementById(\"altair-viz-786d9b4091e34b71a3eed96d30bc0d25\");\n",
       "    const paths = {\n",
       "      \"vega\": \"https://cdn.jsdelivr.net/npm//vega@5?noext\",\n",
       "      \"vega-lib\": \"https://cdn.jsdelivr.net/npm//vega-lib?noext\",\n",
       "      \"vega-lite\": \"https://cdn.jsdelivr.net/npm//vega-lite@4.0.2?noext\",\n",
       "      \"vega-embed\": \"https://cdn.jsdelivr.net/npm//vega-embed@6?noext\",\n",
       "    };\n",
       "\n",
       "    function loadScript(lib) {\n",
       "      return new Promise(function(resolve, reject) {\n",
       "        var s = document.createElement('script');\n",
       "        s.src = paths[lib];\n",
       "        s.async = true;\n",
       "        s.onload = () => resolve(paths[lib]);\n",
       "        s.onerror = () => reject(`Error loading script: ${paths[lib]}`);\n",
       "        document.getElementsByTagName(\"head\")[0].appendChild(s);\n",
       "      });\n",
       "    }\n",
       "\n",
       "    function showError(err) {\n",
       "      outputDiv.innerHTML = `<div class=\"error\" style=\"color:red;\">${err}</div>`;\n",
       "      throw err;\n",
       "    }\n",
       "\n",
       "    function displayChart(vegaEmbed) {\n",
       "      vegaEmbed(outputDiv, spec, embedOpt)\n",
       "        .catch(err => showError(`Javascript Error: ${err.message}<br>This usually means there's a typo in your chart specification. See the javascript console for the full traceback.`));\n",
       "    }\n",
       "\n",
       "    if(typeof define === \"function\" && define.amd) {\n",
       "      requirejs.config({paths});\n",
       "      require([\"vega-embed\"], displayChart, err => showError(`Error loading script: ${err.message}`));\n",
       "    } else if (typeof vegaEmbed === \"function\") {\n",
       "      displayChart(vegaEmbed);\n",
       "    } else {\n",
       "      loadScript(\"vega\")\n",
       "        .then(() => loadScript(\"vega-lite\"))\n",
       "        .then(() => loadScript(\"vega-embed\"))\n",
       "        .catch(showError)\n",
       "        .then(() => displayChart(vegaEmbed));\n",
       "    }\n",
       "  })({\"config\": {\"view\": {\"continuousWidth\": 400, \"continuousHeight\": 300}}, \"data\": {\"name\": \"data-e844a3fbaf6f5784a55be691bbfee809\"}, \"mark\": {\"type\": \"bar\", \"opacity\": 0.7}, \"encoding\": {\"color\": {\"type\": \"nominal\", \"field\": \"variable\", \"scale\": {\"domain\": [\"Permanent\", \"Ephemeral\", \"Seasonal\"], \"range\": [\"#1f78b4\", \"#b2df8a\", \"#a6cee3\"]}, \"title\": \"Water Type\"}, \"order\": {\"type\": \"nominal\", \"aggregate\": \"sum\", \"field\": \"variable\", \"sort\": \"ascending\"}, \"tooltip\": [{\"type\": \"nominal\", \"field\": \"Year\"}, {\"type\": \"quantitative\", \"field\": \"vals\", \"title\": \"Extent\"}], \"x\": {\"type\": \"nominal\", \"field\": \"Year\", \"title\": \"Year\"}, \"y\": {\"type\": \"quantitative\", \"aggregate\": \"sum\", \"field\": \"vals\", \"title\": \"Water Extent (km\\u00b2)\"}}, \"selection\": {\"selector001\": {\"type\": \"interval\", \"bind\": \"scales\", \"encodings\": [\"x\", \"y\"]}}, \"$schema\": \"https://vega.github.io/schema/vega-lite/v4.0.2.json\", \"datasets\": {\"data-e844a3fbaf6f5784a55be691bbfee809\": [{\"Year\": \"1984\", \"variable\": \"Ephemeral\", \"vals\": 325.378393168321}, {\"Year\": \"1985\", \"variable\": \"Ephemeral\", \"vals\": 287.8073336261212}, {\"Year\": \"1986\", \"variable\": \"Ephemeral\", \"vals\": 284.8348753597758}, {\"Year\": \"1987\", \"variable\": \"Ephemeral\", \"vals\": 245.20644112691474}, {\"Year\": \"1988\", \"variable\": \"Ephemeral\", \"vals\": 245.2246802642433}, {\"Year\": \"1989\", \"variable\": \"Ephemeral\", \"vals\": 278.22396975548793}, {\"Year\": \"1990\", \"variable\": \"Ephemeral\", \"vals\": 256.67312620627405}, {\"Year\": \"1991\", \"variable\": \"Ephemeral\", \"vals\": 0.0}, {\"Year\": \"1992\", \"variable\": \"Ephemeral\", \"vals\": 0.0}, {\"Year\": \"1993\", \"variable\": \"Ephemeral\", \"vals\": 0.0}, {\"Year\": \"1994\", \"variable\": \"Ephemeral\", \"vals\": 244.05424876595933}, {\"Year\": \"1995\", \"variable\": \"Ephemeral\", \"vals\": 0.0}, {\"Year\": \"1996\", \"variable\": \"Ephemeral\", \"vals\": 0.0}, {\"Year\": \"1997\", \"variable\": \"Ephemeral\", \"vals\": 182.3293602186558}, {\"Year\": \"1998\", \"variable\": \"Ephemeral\", \"vals\": 260.5606680483037}, {\"Year\": \"1999\", \"variable\": \"Ephemeral\", \"vals\": 395.87787012528884}, {\"Year\": \"2000\", \"variable\": \"Ephemeral\", \"vals\": 289.09032665763306}, {\"Year\": \"2001\", \"variable\": \"Ephemeral\", \"vals\": 311.39366490120216}, {\"Year\": \"2002\", \"variable\": \"Ephemeral\", \"vals\": 311.35666550833554}, {\"Year\": \"2003\", \"variable\": \"Ephemeral\", \"vals\": 304.62017041558545}, {\"Year\": \"2004\", \"variable\": \"Ephemeral\", \"vals\": 258.6950648586969}, {\"Year\": \"2005\", \"variable\": \"Ephemeral\", \"vals\": 245.0605280282863}, {\"Year\": \"2006\", \"variable\": \"Ephemeral\", \"vals\": 287.60253416983204}, {\"Year\": \"2007\", \"variable\": \"Ephemeral\", \"vals\": 236.4485284999509}, {\"Year\": \"2008\", \"variable\": \"Ephemeral\", \"vals\": 249.36704891066336}, {\"Year\": \"2009\", \"variable\": \"Ephemeral\", \"vals\": 295.7215558720869}, {\"Year\": \"2010\", \"variable\": \"Ephemeral\", \"vals\": 424.9296891804243}, {\"Year\": \"2011\", \"variable\": \"Ephemeral\", \"vals\": 276.849259919124}, {\"Year\": \"2012\", \"variable\": \"Ephemeral\", \"vals\": 356.3104067229261}, {\"Year\": \"2013\", \"variable\": \"Ephemeral\", \"vals\": 261.86346357177194}, {\"Year\": \"2014\", \"variable\": \"Ephemeral\", \"vals\": 219.4454835640604}, {\"Year\": \"2015\", \"variable\": \"Ephemeral\", \"vals\": 247.42901028995178}, {\"Year\": \"2016\", \"variable\": \"Ephemeral\", \"vals\": 209.8324159554919}, {\"Year\": \"2017\", \"variable\": \"Ephemeral\", \"vals\": 252.2337201805032}, {\"Year\": \"2018\", \"variable\": \"Ephemeral\", \"vals\": 228.61351622181206}, {\"Year\": \"2019\", \"variable\": \"Ephemeral\", \"vals\": 259.9853535451404}, {\"Year\": \"1984\", \"variable\": \"Seasonal\", \"vals\": 155.43080160470882}, {\"Year\": \"1985\", \"variable\": \"Seasonal\", \"vals\": 210.4113782861213}, {\"Year\": \"1986\", \"variable\": \"Seasonal\", \"vals\": 209.19196167615488}, {\"Year\": \"1987\", \"variable\": \"Seasonal\", \"vals\": 254.3723893118288}, {\"Year\": \"1988\", \"variable\": \"Seasonal\", \"vals\": 237.68045194694255}, {\"Year\": \"1989\", \"variable\": \"Seasonal\", \"vals\": 288.5916165312492}, {\"Year\": \"1990\", \"variable\": \"Seasonal\", \"vals\": 280.7378439975725}, {\"Year\": \"1991\", \"variable\": \"Seasonal\", \"vals\": 0.0}, {\"Year\": \"1992\", \"variable\": \"Seasonal\", \"vals\": 0.0}, {\"Year\": \"1993\", \"variable\": \"Seasonal\", \"vals\": 0.0}, {\"Year\": \"1994\", \"variable\": \"Seasonal\", \"vals\": 144.61082422319927}, {\"Year\": \"1995\", \"variable\": \"Seasonal\", \"vals\": 0.0}, {\"Year\": \"1996\", \"variable\": \"Seasonal\", \"vals\": 0.0}, {\"Year\": \"1997\", \"variable\": \"Seasonal\", \"vals\": 36.358938587164864}, {\"Year\": \"1998\", \"variable\": \"Seasonal\", \"vals\": 169.01635332343704}, {\"Year\": \"1999\", \"variable\": \"Seasonal\", \"vals\": 81.85360050309939}, {\"Year\": \"2000\", \"variable\": \"Seasonal\", \"vals\": 255.12592624260293}, {\"Year\": \"2001\", \"variable\": \"Seasonal\", \"vals\": 172.43228318597113}, {\"Year\": \"2002\", \"variable\": \"Seasonal\", \"vals\": 195.394314846206}, {\"Year\": \"2003\", \"variable\": \"Seasonal\", \"vals\": 205.56810564807526}, {\"Year\": \"2004\", \"variable\": \"Seasonal\", \"vals\": 91.81060612986353}, {\"Year\": \"2005\", \"variable\": \"Seasonal\", \"vals\": 55.995193835089644}, {\"Year\": \"2006\", \"variable\": \"Seasonal\", \"vals\": 83.80518819725502}, {\"Year\": \"2007\", \"variable\": \"Seasonal\", \"vals\": 56.782082331264526}, {\"Year\": \"2008\", \"variable\": \"Seasonal\", \"vals\": 30.87833837903809}, {\"Year\": \"2009\", \"variable\": \"Seasonal\", \"vals\": 162.20638056316318}, {\"Year\": \"2010\", \"variable\": \"Seasonal\", \"vals\": 112.97530108592137}, {\"Year\": \"2011\", \"variable\": \"Seasonal\", \"vals\": 244.95734662282757}, {\"Year\": \"2012\", \"variable\": \"Seasonal\", \"vals\": 106.8563310712951}, {\"Year\": \"2013\", \"variable\": \"Seasonal\", \"vals\": 261.8947306643352}, {\"Year\": \"2014\", \"variable\": \"Seasonal\", \"vals\": 334.8726458251492}, {\"Year\": \"2015\", \"variable\": \"Seasonal\", \"vals\": 296.72783513441397}, {\"Year\": \"2016\", \"variable\": \"Seasonal\", \"vals\": 407.78906903725544}, {\"Year\": \"2017\", \"variable\": \"Seasonal\", \"vals\": 384.50811303287566}, {\"Year\": \"2018\", \"variable\": \"Seasonal\", \"vals\": 397.66217887423113}, {\"Year\": \"2019\", \"variable\": \"Seasonal\", \"vals\": 393.86166377317}, {\"Year\": \"1984\", \"variable\": \"Permanent\", \"vals\": 1928.4719326236257}, {\"Year\": \"1985\", \"variable\": \"Permanent\", \"vals\": 1849.8628140921714}, {\"Year\": \"1986\", \"variable\": \"Permanent\", \"vals\": 1860.8792530386202}, {\"Year\": \"1987\", \"variable\": \"Permanent\", \"vals\": 2069.4073101160157}, {\"Year\": \"1988\", \"variable\": \"Permanent\", \"vals\": 2088.7684149493834}, {\"Year\": \"1989\", \"variable\": \"Permanent\", \"vals\": 2127.855407362692}, {\"Year\": \"1990\", \"variable\": \"Permanent\", \"vals\": 2128.624056721538}, {\"Year\": \"1991\", \"variable\": \"Permanent\", \"vals\": 0.0}, {\"Year\": \"1992\", \"variable\": \"Permanent\", \"vals\": 0.0}, {\"Year\": \"1993\", \"variable\": \"Permanent\", \"vals\": 0.0}, {\"Year\": \"1994\", \"variable\": \"Permanent\", \"vals\": 1905.5401258195345}, {\"Year\": \"1995\", \"variable\": \"Permanent\", \"vals\": 0.0}, {\"Year\": \"1996\", \"variable\": \"Permanent\", \"vals\": 0.0}, {\"Year\": \"1997\", \"variable\": \"Permanent\", \"vals\": 711.892811307338}, {\"Year\": \"1998\", \"variable\": \"Permanent\", \"vals\": 2003.6395865002846}, {\"Year\": \"1999\", \"variable\": \"Permanent\", \"vals\": 1703.6172420461244}, {\"Year\": \"2000\", \"variable\": \"Permanent\", \"vals\": 2114.2167015866057}, {\"Year\": \"2001\", \"variable\": \"Permanent\", \"vals\": 2086.130514573465}, {\"Year\": \"2002\", \"variable\": \"Permanent\", \"vals\": 2144.7318205737006}, {\"Year\": \"2003\", \"variable\": \"Permanent\", \"vals\": 2119.6196551815333}, {\"Year\": \"2004\", \"variable\": \"Permanent\", \"vals\": 1452.9411441934797}, {\"Year\": \"2005\", \"variable\": \"Permanent\", \"vals\": 606.1657433957853}, {\"Year\": \"2006\", \"variable\": \"Permanent\", \"vals\": 1445.143131308207}, {\"Year\": \"2007\", \"variable\": \"Permanent\", \"vals\": 1043.0431097628334}, {\"Year\": \"2008\", \"variable\": \"Permanent\", \"vals\": 1011.261673526927}, {\"Year\": \"2009\", \"variable\": \"Permanent\", \"vals\": 2127.800168832496}, {\"Year\": \"2010\", \"variable\": \"Permanent\", \"vals\": 1841.9548452647186}, {\"Year\": \"2011\", \"variable\": \"Permanent\", \"vals\": 2175.5111464929555}, {\"Year\": \"2012\", \"variable\": \"Permanent\", \"vals\": 1882.5780941592998}, {\"Year\": \"2013\", \"variable\": \"Permanent\", \"vals\": 2190.0414855253025}, {\"Year\": \"2014\", \"variable\": \"Permanent\", \"vals\": 2181.177785901833}, {\"Year\": \"2015\", \"variable\": \"Permanent\", \"vals\": 2228.500009378089}, {\"Year\": \"2016\", \"variable\": \"Permanent\", \"vals\": 2156.2480118829517}, {\"Year\": \"2017\", \"variable\": \"Permanent\", \"vals\": 2132.501176199379}, {\"Year\": \"2018\", \"variable\": \"Permanent\", \"vals\": 2143.3430405456834}, {\"Year\": \"2019\", \"variable\": \"Permanent\", \"vals\": 2122.2955971867414}]}}, {\"mode\": \"vega-lite\"});\n",
       "</script>"
      ],
      "text/plain": [
       "alt.Chart(...)"
      ]
     },
     "execution_count": 12,
     "metadata": {},
     "output_type": "execute_result"
    }
   ],
   "source": [
    "water_type_melt = water_type_by_year.melt('Year', value_name = 'vals', var_name='variable')\n",
    "\n",
    "alt.Chart(water_type_melt).mark_bar(opacity=0.7).encode(\n",
    "    x=alt.X('Year:N', title = 'Year'),\n",
    "    y=alt.Y('sum(vals)', title = 'Water Extent (km\\N{SUPERSCRIPT TWO})'),\n",
    "    color=alt.Color('variable',\n",
    "        scale = alt.Scale(domain=['Permanent', 'Ephemeral', 'Seasonal'],\n",
    "                          range=['#1f78b4', '#b2df8a', '#a6cee3']),\n",
    "        title = 'Water Type'),\n",
    "    order=alt.Order('sum(variable)',sort='ascending'),\n",
    "    tooltip = ['Year:N', \n",
    "               alt.Tooltip('vals:Q', title = 'Extent')]\n",
    ").interactive()"
   ]
  },
  {
   "cell_type": "code",
   "execution_count": 13,
   "metadata": {},
   "outputs": [],
   "source": [
    "water_type_by_year['HYBAS_ID'] = 'Total'\n",
    "water_type_by_basin = water_type_df.append(water_type_by_year, sort=False, ignore_index = True)\n",
    "water_type_by_basin.to_csv('./water_type_w_total.csv', header = True, index = False) "
   ]
  },
  {
   "cell_type": "code",
   "execution_count": null,
   "metadata": {},
   "outputs": [],
   "source": []
  }
 ],
 "metadata": {
  "kernelspec": {
   "display_name": "Python 3",
   "language": "python",
   "name": "python3"
  },
  "language_info": {
   "codemirror_mode": {
    "name": "ipython",
    "version": 3
   },
   "file_extension": ".py",
   "mimetype": "text/x-python",
   "name": "python",
   "nbconvert_exporter": "python",
   "pygments_lexer": "ipython3",
   "version": "3.8.1"
  }
 },
 "nbformat": 4,
 "nbformat_minor": 4
}
