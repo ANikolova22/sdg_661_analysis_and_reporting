{
 "cells": [
  {
   "cell_type": "markdown",
   "metadata": {},
   "source": [
    "# SDG 6.6.1: Analysis and Reporting"
   ]
  },
  {
   "cell_type": "markdown",
   "metadata": {},
   "source": [
    "## Extracting GSWE data"
   ]
  },
  {
   "cell_type": "code",
   "execution_count": 1,
   "metadata": {},
   "outputs": [
    {
     "data": {
      "text/html": [
       "<p>To authorize access needed by Earth Engine, open the following\n",
       "        URL in a web browser and follow the instructions:</p>\n",
       "        <p><a href=https://accounts.google.com/o/oauth2/auth?client_id=517222506229-vsmmajv00ul0bs7p89v5m89qs8eb9359.apps.googleusercontent.com&scope=https%3A%2F%2Fwww.googleapis.com%2Fauth%2Fearthengine+https%3A%2F%2Fwww.googleapis.com%2Fauth%2Fdevstorage.full_control&redirect_uri=urn%3Aietf%3Awg%3Aoauth%3A2.0%3Aoob&response_type=code&code_challenge=f_dKNH21cr8LajcCmg6tZGTJAYRFYViwzSiktP45bzI&code_challenge_method=S256>https://accounts.google.com/o/oauth2/auth?client_id=517222506229-vsmmajv00ul0bs7p89v5m89qs8eb9359.apps.googleusercontent.com&scope=https%3A%2F%2Fwww.googleapis.com%2Fauth%2Fearthengine+https%3A%2F%2Fwww.googleapis.com%2Fauth%2Fdevstorage.full_control&redirect_uri=urn%3Aietf%3Awg%3Aoauth%3A2.0%3Aoob&response_type=code&code_challenge=f_dKNH21cr8LajcCmg6tZGTJAYRFYViwzSiktP45bzI&code_challenge_method=S256</a></p>\n",
       "        <p>The authorization workflow will generate a code, which you\n",
       "        should paste in the box below</p>\n",
       "        "
      ],
      "text/plain": [
       "<IPython.core.display.HTML object>"
      ]
     },
     "metadata": {},
     "output_type": "display_data"
    },
    {
     "name": "stdout",
     "output_type": "stream",
     "text": [
      "Enter verification code: 4/1AfDhmriiFFT4jr2l2TNj5BtJZO8WT_Kv5VbGQFHHKELQVaxLe_aMJ8FKTZ0\n",
      "\n",
      "Successfully saved authorization token.\n"
     ]
    }
   ],
   "source": [
    "import ee\n",
    "from GSWE_reporting import extract_gswe\n",
    "ee.Authenticate()"
   ]
  },
  {
   "cell_type": "code",
   "execution_count": 2,
   "metadata": {},
   "outputs": [],
   "source": [
    "ee.Initialize()  "
   ]
  },
  {
   "cell_type": "code",
   "execution_count": 3,
   "metadata": {},
   "outputs": [],
   "source": [
    "geometry = ee.Geometry.Polygon(\n",
    "        [[[-12.598544729822379, 61.78863494939058],\n",
    "          [-12.598544729822379, 49.00174346741333],\n",
    "          [3.749111520177621, 49.00174346741333],\n",
    "          [3.749111520177621, 61.78863494939058]]])"
   ]
  },
  {
   "cell_type": "code",
   "execution_count": 4,
   "metadata": {},
   "outputs": [
    {
     "name": "stdout",
     "output_type": "stream",
     "text": [
      "GSWE files are being extracted to GSWE_exports in your Google Drive\n"
     ]
    }
   ],
   "source": [
    "extract_gswe('JRC/GSW1_2/YearlyHistory', geometry, 1984, 2020, 'GSWE_exports')"
   ]
  },
  {
   "cell_type": "markdown",
   "metadata": {},
   "source": [
    "---\n",
    "## Preparing HydroBASIN boundary"
   ]
  },
  {
   "cell_type": "code",
   "execution_count": 1,
   "metadata": {},
   "outputs": [],
   "source": [
    "import geopandas as gpd\n",
    "from shapely.ops import unary_union\n",
    "from GSWE_reporting import clip_basin_to_boundary"
   ]
  },
  {
   "cell_type": "code",
   "execution_count": 2,
   "metadata": {},
   "outputs": [],
   "source": [
    "eu_hydrobasin = gpd.read_file('./boundaries/hybas_eu_lev06_v1c.shp')\n",
    "uk_boundary = gpd.read_file('./boundaries/Countries_December_2018_Boundaries_UK_BFC.shp') "
   ]
  },
  {
   "cell_type": "code",
   "execution_count": 3,
   "metadata": {},
   "outputs": [],
   "source": [
    "target_crs = ('+proj=utm +zone=30 +ellps=WGS84 +datum=WGS84 +units=m +no_defs ')\n",
    "osgb_proj4 = ('+proj=tmerc +lat_0=49 +lon_0=-2 +k=0.9996012717 +x_0=400000 +y_0=-100000 +ellps=airy +datum=OSGB36 +units=m +no_defs')\n",
    "uk_boundary.crs = osgb_proj4  "
   ]
  },
  {
   "cell_type": "code",
   "execution_count": 4,
   "metadata": {},
   "outputs": [
    {
     "name": "stdout",
     "output_type": "stream",
     "text": [
      "union national boundary\n"
     ]
    }
   ],
   "source": [
    "hydro_clipped = clip_basin_to_boundary(eu_hydrobasin, uk_boundary, target_crs)"
   ]
  },
  {
   "cell_type": "code",
   "execution_count": 5,
   "metadata": {},
   "outputs": [],
   "source": [
    "hydro_clipped = hydro_clipped.drop(hydro_clipped.columns[1:-1], axis=1) \n",
    "hydro_clipped.to_file('./boundaries/UK_hydrobasin_UTM.shp')"
   ]
  },
  {
   "cell_type": "markdown",
   "metadata": {},
   "source": [
    "---\n",
    "## Preparing GSWE outputs"
   ]
  },
  {
   "cell_type": "code",
   "execution_count": 1,
   "metadata": {},
   "outputs": [],
   "source": [
    "import geopandas as gpd\n",
    "from GSWE_reporting import get_gswe_paths, reproject_GSWE"
   ]
  },
  {
   "cell_type": "code",
   "execution_count": 2,
   "metadata": {},
   "outputs": [],
   "source": [
    "gsw_files = get_gswe_paths('./GSW_output/', '.tif')"
   ]
  },
  {
   "cell_type": "code",
   "execution_count": 3,
   "metadata": {},
   "outputs": [],
   "source": [
    "reproject_GSWE(gsw_files, '+proj=utm +zone=30 +ellps=WGS84 +datum=WGS84 +units=m +no_defs ')"
   ]
  },
  {
   "cell_type": "markdown",
   "metadata": {},
   "source": [
    "---\n",
    "## Calculating Water Extent"
   ]
  },
  {
   "cell_type": "code",
   "execution_count": 1,
   "metadata": {},
   "outputs": [],
   "source": [
    "import pandas as pd\n",
    "import altair as alt\n",
    "import geopandas as gpd\n",
    "from GSWE_reporting import get_gswe_paths, surface_water_extent"
   ]
  },
  {
   "cell_type": "code",
   "execution_count": 2,
   "metadata": {},
   "outputs": [],
   "source": [
    "gsw_file_path_list = get_gswe_paths('./Reprojected/', 'UTM.tif')"
   ]
  },
  {
   "cell_type": "code",
   "execution_count": 3,
   "metadata": {},
   "outputs": [],
   "source": [
    "hydro_basin = gpd.read_file('./boundaries/UK_hydrobasin_UTM.shp')"
   ]
  },
  {
   "cell_type": "code",
   "execution_count": 4,
   "metadata": {
    "collapsed": true
   },
   "outputs": [
    {
     "name": "stdout",
     "output_type": "stream",
     "text": [
      "Calculating water extent in 1984\n",
      "Calculating water extent in 1985\n",
      "Calculating water extent in 1986\n",
      "Calculating water extent in 1987\n",
      "Calculating water extent in 1988\n",
      "Calculating water extent in 1989\n",
      "Calculating water extent in 1990\n",
      "Calculating water extent in 1991\n",
      "Calculating water extent in 1992\n",
      "Calculating water extent in 1993\n",
      "Calculating water extent in 1994\n",
      "Calculating water extent in 1995\n",
      "Calculating water extent in 1996\n",
      "Calculating water extent in 1997\n",
      "Calculating water extent in 1998\n",
      "Calculating water extent in 1999\n",
      "Calculating water extent in 2000\n",
      "Calculating water extent in 2001\n",
      "Calculating water extent in 2002\n",
      "Calculating water extent in 2003\n",
      "Calculating water extent in 2004\n",
      "Calculating water extent in 2005\n",
      "Calculating water extent in 2006\n",
      "Calculating water extent in 2007\n",
      "Calculating water extent in 2008\n",
      "Calculating water extent in 2009\n",
      "Calculating water extent in 2010\n",
      "Calculating water extent in 2011\n",
      "Calculating water extent in 2012\n",
      "Calculating water extent in 2013\n",
      "Calculating water extent in 2014\n",
      "Calculating water extent in 2015\n",
      "Calculating water extent in 2016\n",
      "Calculating water extent in 2017\n",
      "Calculating water extent in 2018\n",
      "Calculating water extent in 2019\n",
      "Calculating water extent in baseline\n"
     ]
    }
   ],
   "source": [
    "water_extent = surface_water_extent(gsw_file_path_list, hydro_basin)"
   ]
  },
  {
   "cell_type": "code",
   "execution_count": 5,
   "metadata": {},
   "outputs": [],
   "source": [
    "hydro_basin['area'] = hydro_basin.area / 1000000\n",
    "water_extent = hydro_basin[['HYBAS_ID', 'area']].merge(water_extent, on='HYBAS_ID', how = 'left')\n",
    "water_extent[['% Ephemeral', '% Seasonal', '% Permanent']] = water_extent[['Ephemeral', 'Seasonal', 'Permanent']].div(water_extent['area'], axis=0)*100"
   ]
  },
  {
   "cell_type": "markdown",
   "metadata": {},
   "source": [
    "### National Water Extent"
   ]
  },
  {
   "cell_type": "code",
   "execution_count": 6,
   "metadata": {},
   "outputs": [],
   "source": [
    "water_extent['HYBAS_ID'] = water_extent[\"HYBAS_ID\"].apply(str)\n",
    "water_type_by_year = water_extent.groupby(['Year'], as_index=False).sum() "
   ]
  },
  {
   "cell_type": "code",
   "execution_count": 7,
   "metadata": {},
   "outputs": [
    {
     "data": {
      "text/html": [
       "\n",
       "<div id=\"altair-viz-5e2cd4bc91a34763bc3d6d83331f1856\"></div>\n",
       "<script type=\"text/javascript\">\n",
       "  (function(spec, embedOpt){\n",
       "    let outputDiv = document.currentScript.previousElementSibling;\n",
       "    if (outputDiv.id !== \"altair-viz-5e2cd4bc91a34763bc3d6d83331f1856\") {\n",
       "      outputDiv = document.getElementById(\"altair-viz-5e2cd4bc91a34763bc3d6d83331f1856\");\n",
       "    }\n",
       "    const paths = {\n",
       "      \"vega\": \"https://cdn.jsdelivr.net/npm//vega@5?noext\",\n",
       "      \"vega-lib\": \"https://cdn.jsdelivr.net/npm//vega-lib?noext\",\n",
       "      \"vega-lite\": \"https://cdn.jsdelivr.net/npm//vega-lite@4.8.1?noext\",\n",
       "      \"vega-embed\": \"https://cdn.jsdelivr.net/npm//vega-embed@6?noext\",\n",
       "    };\n",
       "\n",
       "    function loadScript(lib) {\n",
       "      return new Promise(function(resolve, reject) {\n",
       "        var s = document.createElement('script');\n",
       "        s.src = paths[lib];\n",
       "        s.async = true;\n",
       "        s.onload = () => resolve(paths[lib]);\n",
       "        s.onerror = () => reject(`Error loading script: ${paths[lib]}`);\n",
       "        document.getElementsByTagName(\"head\")[0].appendChild(s);\n",
       "      });\n",
       "    }\n",
       "\n",
       "    function showError(err) {\n",
       "      outputDiv.innerHTML = `<div class=\"error\" style=\"color:red;\">${err}</div>`;\n",
       "      throw err;\n",
       "    }\n",
       "\n",
       "    function displayChart(vegaEmbed) {\n",
       "      vegaEmbed(outputDiv, spec, embedOpt)\n",
       "        .catch(err => showError(`Javascript Error: ${err.message}<br>This usually means there's a typo in your chart specification. See the javascript console for the full traceback.`));\n",
       "    }\n",
       "\n",
       "    if(typeof define === \"function\" && define.amd) {\n",
       "      requirejs.config({paths});\n",
       "      require([\"vega-embed\"], displayChart, err => showError(`Error loading script: ${err.message}`));\n",
       "    } else if (typeof vegaEmbed === \"function\") {\n",
       "      displayChart(vegaEmbed);\n",
       "    } else {\n",
       "      loadScript(\"vega\")\n",
       "        .then(() => loadScript(\"vega-lite\"))\n",
       "        .then(() => loadScript(\"vega-embed\"))\n",
       "        .catch(showError)\n",
       "        .then(() => displayChart(vegaEmbed));\n",
       "    }\n",
       "  })({\"config\": {\"view\": {\"continuousWidth\": 400, \"continuousHeight\": 300}}, \"data\": {\"name\": \"data-e282a9fd2bc886d1d8fd7bc541d06da5\"}, \"mark\": {\"type\": \"bar\", \"opacity\": 0.7}, \"encoding\": {\"color\": {\"type\": \"nominal\", \"field\": \"Type\", \"scale\": {\"domain\": [\"Permanent\", \"Ephemeral\", \"Seasonal\"], \"range\": [\"#1f78b4\", \"#b2df8a\", \"#a6cee3\"]}, \"title\": \"Water Type\"}, \"order\": {\"type\": \"nominal\", \"aggregate\": \"sum\", \"field\": \"Type\", \"sort\": \"ascending\"}, \"tooltip\": [{\"type\": \"nominal\", \"field\": \"Year\"}, {\"type\": \"quantitative\", \"field\": \"Extent\", \"title\": \"Extent\"}], \"x\": {\"type\": \"nominal\", \"field\": \"Year\", \"title\": \"Year\"}, \"y\": {\"type\": \"quantitative\", \"aggregate\": \"sum\", \"field\": \"Extent\", \"title\": \"Water Extent (km\\u00b2)\"}}, \"selection\": {\"selector001\": {\"type\": \"interval\", \"bind\": \"scales\", \"encodings\": [\"x\", \"y\"]}}, \"$schema\": \"https://vega.github.io/schema/vega-lite/v4.8.1.json\", \"datasets\": {\"data-e282a9fd2bc886d1d8fd7bc541d06da5\": [{\"Year\": \"1984\", \"Type\": \"Ephemeral\", \"Extent\": 325.37839316832134}, {\"Year\": \"1985\", \"Type\": \"Ephemeral\", \"Extent\": 287.8073336261215}, {\"Year\": \"1986\", \"Type\": \"Ephemeral\", \"Extent\": 284.834875359776}, {\"Year\": \"1987\", \"Type\": \"Ephemeral\", \"Extent\": 245.20644112691497}, {\"Year\": \"1988\", \"Type\": \"Ephemeral\", \"Extent\": 245.2246802642435}, {\"Year\": \"1989\", \"Type\": \"Ephemeral\", \"Extent\": 278.22396975548816}, {\"Year\": \"1990\", \"Type\": \"Ephemeral\", \"Extent\": 256.6731262062742}, {\"Year\": \"1991\", \"Type\": \"Ephemeral\", \"Extent\": 0.0}, {\"Year\": \"1992\", \"Type\": \"Ephemeral\", \"Extent\": 0.0}, {\"Year\": \"1993\", \"Type\": \"Ephemeral\", \"Extent\": 0.0}, {\"Year\": \"1994\", \"Type\": \"Ephemeral\", \"Extent\": 244.05424876595956}, {\"Year\": \"1995\", \"Type\": \"Ephemeral\", \"Extent\": 0.0}, {\"Year\": \"1996\", \"Type\": \"Ephemeral\", \"Extent\": 0.0}, {\"Year\": \"1997\", \"Type\": \"Ephemeral\", \"Extent\": 182.32936021865592}, {\"Year\": \"1998\", \"Type\": \"Ephemeral\", \"Extent\": 260.56066804830385}, {\"Year\": \"1999\", \"Type\": \"Ephemeral\", \"Extent\": 395.8778701252892}, {\"Year\": \"2000\", \"Type\": \"Ephemeral\", \"Extent\": 289.0903266576333}, {\"Year\": \"2001\", \"Type\": \"Ephemeral\", \"Extent\": 311.39366490120244}, {\"Year\": \"2002\", \"Type\": \"Ephemeral\", \"Extent\": 311.35666550833594}, {\"Year\": \"2003\", \"Type\": \"Ephemeral\", \"Extent\": 304.6201704155856}, {\"Year\": \"2004\", \"Type\": \"Ephemeral\", \"Extent\": 258.69506485869715}, {\"Year\": \"2005\", \"Type\": \"Ephemeral\", \"Extent\": 245.06052802828646}, {\"Year\": \"2006\", \"Type\": \"Ephemeral\", \"Extent\": 287.6025341698322}, {\"Year\": \"2007\", \"Type\": \"Ephemeral\", \"Extent\": 236.4485284999511}, {\"Year\": \"2008\", \"Type\": \"Ephemeral\", \"Extent\": 249.36704891066358}, {\"Year\": \"2009\", \"Type\": \"Ephemeral\", \"Extent\": 295.72155587208727}, {\"Year\": \"2010\", \"Type\": \"Ephemeral\", \"Extent\": 424.92968918042465}, {\"Year\": \"2011\", \"Type\": \"Ephemeral\", \"Extent\": 276.8492599191243}, {\"Year\": \"2012\", \"Type\": \"Ephemeral\", \"Extent\": 356.31040672292636}, {\"Year\": \"2013\", \"Type\": \"Ephemeral\", \"Extent\": 261.8634635717722}, {\"Year\": \"2014\", \"Type\": \"Ephemeral\", \"Extent\": 219.4454835640606}, {\"Year\": \"2015\", \"Type\": \"Ephemeral\", \"Extent\": 247.429010289952}, {\"Year\": \"2016\", \"Type\": \"Ephemeral\", \"Extent\": 209.83241595549217}, {\"Year\": \"2017\", \"Type\": \"Ephemeral\", \"Extent\": 252.23372018050333}, {\"Year\": \"2018\", \"Type\": \"Ephemeral\", \"Extent\": 228.6135162218123}, {\"Year\": \"2019\", \"Type\": \"Ephemeral\", \"Extent\": 259.9853535451404}, {\"Year\": \"1984\", \"Type\": \"Seasonal\", \"Extent\": 155.430801604709}, {\"Year\": \"1985\", \"Type\": \"Seasonal\", \"Extent\": 210.4113782861215}, {\"Year\": \"1986\", \"Type\": \"Seasonal\", \"Extent\": 209.1919616761551}, {\"Year\": \"1987\", \"Type\": \"Seasonal\", \"Extent\": 254.3723893118291}, {\"Year\": \"1988\", \"Type\": \"Seasonal\", \"Extent\": 237.68045194694284}, {\"Year\": \"1989\", \"Type\": \"Seasonal\", \"Extent\": 288.59161653124943}, {\"Year\": \"1990\", \"Type\": \"Seasonal\", \"Extent\": 280.7378439975727}, {\"Year\": \"1991\", \"Type\": \"Seasonal\", \"Extent\": 0.0}, {\"Year\": \"1992\", \"Type\": \"Seasonal\", \"Extent\": 0.0}, {\"Year\": \"1993\", \"Type\": \"Seasonal\", \"Extent\": 0.0}, {\"Year\": \"1994\", \"Type\": \"Seasonal\", \"Extent\": 144.6108242231994}, {\"Year\": \"1995\", \"Type\": \"Seasonal\", \"Extent\": 0.0}, {\"Year\": \"1996\", \"Type\": \"Seasonal\", \"Extent\": 0.0}, {\"Year\": \"1997\", \"Type\": \"Seasonal\", \"Extent\": 36.35893858716491}, {\"Year\": \"1998\", \"Type\": \"Seasonal\", \"Extent\": 169.01635332343722}, {\"Year\": \"1999\", \"Type\": \"Seasonal\", \"Extent\": 81.85360050309944}, {\"Year\": \"2000\", \"Type\": \"Seasonal\", \"Extent\": 255.1259262426032}, {\"Year\": \"2001\", \"Type\": \"Seasonal\", \"Extent\": 172.43228318597133}, {\"Year\": \"2002\", \"Type\": \"Seasonal\", \"Extent\": 195.39431484620613}, {\"Year\": \"2003\", \"Type\": \"Seasonal\", \"Extent\": 205.5681056480754}, {\"Year\": \"2004\", \"Type\": \"Seasonal\", \"Extent\": 91.81060612986357}, {\"Year\": \"2005\", \"Type\": \"Seasonal\", \"Extent\": 55.99519383508969}, {\"Year\": \"2006\", \"Type\": \"Seasonal\", \"Extent\": 83.80518819725509}, {\"Year\": \"2007\", \"Type\": \"Seasonal\", \"Extent\": 56.782082331264576}, {\"Year\": \"2008\", \"Type\": \"Seasonal\", \"Extent\": 30.878338379038123}, {\"Year\": \"2009\", \"Type\": \"Seasonal\", \"Extent\": 162.20638056316332}, {\"Year\": \"2010\", \"Type\": \"Seasonal\", \"Extent\": 112.97530108592146}, {\"Year\": \"2011\", \"Type\": \"Seasonal\", \"Extent\": 244.9573466228278}, {\"Year\": \"2012\", \"Type\": \"Seasonal\", \"Extent\": 106.85633107129517}, {\"Year\": \"2013\", \"Type\": \"Seasonal\", \"Extent\": 261.89473066433544}, {\"Year\": \"2014\", \"Type\": \"Seasonal\", \"Extent\": 334.8726458251496}, {\"Year\": \"2015\", \"Type\": \"Seasonal\", \"Extent\": 296.72783513441425}, {\"Year\": \"2016\", \"Type\": \"Seasonal\", \"Extent\": 407.78906903725596}, {\"Year\": \"2017\", \"Type\": \"Seasonal\", \"Extent\": 384.50811303287605}, {\"Year\": \"2018\", \"Type\": \"Seasonal\", \"Extent\": 397.6621788742315}, {\"Year\": \"2019\", \"Type\": \"Seasonal\", \"Extent\": 393.86166377317}, {\"Year\": \"1984\", \"Type\": \"Permanent\", \"Extent\": 1928.4719326236275}, {\"Year\": \"1985\", \"Type\": \"Permanent\", \"Extent\": 1849.8628140921728}, {\"Year\": \"1986\", \"Type\": \"Permanent\", \"Extent\": 1860.879253038622}, {\"Year\": \"1987\", \"Type\": \"Permanent\", \"Extent\": 2069.407310116017}, {\"Year\": \"1988\", \"Type\": \"Permanent\", \"Extent\": 2088.7684149493857}, {\"Year\": \"1989\", \"Type\": \"Permanent\", \"Extent\": 2127.8554073626933}, {\"Year\": \"1990\", \"Type\": \"Permanent\", \"Extent\": 2128.6240567215395}, {\"Year\": \"1991\", \"Type\": \"Permanent\", \"Extent\": 0.0}, {\"Year\": \"1992\", \"Type\": \"Permanent\", \"Extent\": 0.0}, {\"Year\": \"1993\", \"Type\": \"Permanent\", \"Extent\": 0.0}, {\"Year\": \"1994\", \"Type\": \"Permanent\", \"Extent\": 1905.5401258195366}, {\"Year\": \"1995\", \"Type\": \"Permanent\", \"Extent\": 0.0}, {\"Year\": \"1996\", \"Type\": \"Permanent\", \"Extent\": 0.0}, {\"Year\": \"1997\", \"Type\": \"Permanent\", \"Extent\": 711.8928113073387}, {\"Year\": \"1998\", \"Type\": \"Permanent\", \"Extent\": 2003.6395865002864}, {\"Year\": \"1999\", \"Type\": \"Permanent\", \"Extent\": 1703.6172420461257}, {\"Year\": \"2000\", \"Type\": \"Permanent\", \"Extent\": 2114.2167015866075}, {\"Year\": \"2001\", \"Type\": \"Permanent\", \"Extent\": 2086.130514573467}, {\"Year\": \"2002\", \"Type\": \"Permanent\", \"Extent\": 2144.731820573703}, {\"Year\": \"2003\", \"Type\": \"Permanent\", \"Extent\": 2119.6196551815356}, {\"Year\": \"2004\", \"Type\": \"Permanent\", \"Extent\": 1452.9411441934808}, {\"Year\": \"2005\", \"Type\": \"Permanent\", \"Extent\": 606.1657433957859}, {\"Year\": \"2006\", \"Type\": \"Permanent\", \"Extent\": 1445.1431313082087}, {\"Year\": \"2007\", \"Type\": \"Permanent\", \"Extent\": 1043.0431097628345}, {\"Year\": \"2008\", \"Type\": \"Permanent\", \"Extent\": 1011.2616735269277}, {\"Year\": \"2009\", \"Type\": \"Permanent\", \"Extent\": 2127.800168832498}, {\"Year\": \"2010\", \"Type\": \"Permanent\", \"Extent\": 1841.9548452647198}, {\"Year\": \"2011\", \"Type\": \"Permanent\", \"Extent\": 2175.511146492957}, {\"Year\": \"2012\", \"Type\": \"Permanent\", \"Extent\": 1882.5780941593014}, {\"Year\": \"2013\", \"Type\": \"Permanent\", \"Extent\": 2190.0414855253043}, {\"Year\": \"2014\", \"Type\": \"Permanent\", \"Extent\": 2181.1777859018343}, {\"Year\": \"2015\", \"Type\": \"Permanent\", \"Extent\": 2228.500009378091}, {\"Year\": \"2016\", \"Type\": \"Permanent\", \"Extent\": 2156.2480118829535}, {\"Year\": \"2017\", \"Type\": \"Permanent\", \"Extent\": 2132.501176199381}, {\"Year\": \"2018\", \"Type\": \"Permanent\", \"Extent\": 2143.3430405456847}, {\"Year\": \"2019\", \"Type\": \"Permanent\", \"Extent\": 2122.2955971867414}]}}, {\"mode\": \"vega-lite\"});\n",
       "</script>"
      ],
      "text/plain": [
       "alt.Chart(...)"
      ]
     },
     "execution_count": 7,
     "metadata": {},
     "output_type": "execute_result"
    }
   ],
   "source": [
    "water_type_melt = pd.melt(water_type_by_year[water_type_by_year['Year']!='baseline'], id_vars=['Year'],\n",
    "                          value_vars=['Ephemeral', 'Seasonal', 'Permanent'],\n",
    "                          var_name='Type', value_name = 'Extent')\n",
    "\n",
    "alt.Chart(water_type_melt).mark_bar(opacity=0.7).encode(\n",
    "    x=alt.X('Year:N', title = 'Year'),\n",
    "    y=alt.Y('sum(Extent)', title = 'Water Extent (km\\N{SUPERSCRIPT TWO})'),\n",
    "    color=alt.Color('Type',\n",
    "        scale = alt.Scale(domain=['Permanent', 'Ephemeral', 'Seasonal'],\n",
    "                          range=['#1f78b4', '#b2df8a', '#a6cee3']),\n",
    "        title = 'Water Type'),\n",
    "    order=alt.Order('sum(Type)',sort='ascending'),\n",
    "    tooltip = ['Year:N', \n",
    "               alt.Tooltip('Extent:Q', title = 'Extent')]\n",
    ").interactive()"
   ]
  },
  {
   "cell_type": "code",
   "execution_count": 8,
   "metadata": {},
   "outputs": [],
   "source": [
    "water_type_by_year['HYBAS_ID'] = 'Total'\n",
    "water_type_by_year[['% Ephemeral', '% Seasonal', '% Permanent']] = water_type_by_year[['Ephemeral', 'Seasonal', 'Permanent']].div(water_type_by_year['area'], axis=0)*100\n",
    "water_type_by_basin = water_extent.append(water_type_by_year, sort=False, ignore_index = True)\n",
    "water_type_by_basin.to_csv('./water_type_w_total.csv', header = True, index = False) "
   ]
  },
  {
   "cell_type": "markdown",
   "metadata": {},
   "source": [
    "---\n",
    "\n",
    "## Percentage Extent Change"
   ]
  },
  {
   "cell_type": "code",
   "execution_count": 9,
   "metadata": {},
   "outputs": [],
   "source": [
    "def filter_years(df, from_year, to_year, basin_id, water_type):\n",
    "    filtered = df[(df['HYBAS_ID'] == str(basin_id)) & \\\n",
    "                  (df['Year'] >= from_year) & \\\n",
    "                  (df['Year'] <= to_year)][water_type]\n",
    "    return filtered"
   ]
  },
  {
   "cell_type": "code",
   "execution_count": 10,
   "metadata": {
    "collapsed": true
   },
   "outputs": [
    {
     "name": "stderr",
     "output_type": "stream",
     "text": [
      "<ipython-input-10-df9f2165ccad>:4: SettingWithCopyWarning: \n",
      "A value is trying to be set on a copy of a slice from a DataFrame.\n",
      "Try using .loc[row_indexer,col_indexer] = value instead\n",
      "\n",
      "See the caveats in the documentation: https://pandas.pydata.org/pandas-docs/stable/user_guide/indexing.html#returning-a-view-versus-a-copy\n",
      "  hydrobasin_extent_df[['Year']] = hydrobasin_extent_df['Year'].astype('int')\n",
      "/Users/guyhannay/Library/Caches/pypoetry/virtualenvs/sdg-661-reporting-5LNc9BCe-py3.8/lib/python3.8/site-packages/pandas/core/indexing.py:966: SettingWithCopyWarning: \n",
      "A value is trying to be set on a copy of a slice from a DataFrame.\n",
      "Try using .loc[row_indexer,col_indexer] = value instead\n",
      "\n",
      "See the caveats in the documentation: https://pandas.pydata.org/pandas-docs/stable/user_guide/indexing.html#returning-a-view-versus-a-copy\n",
      "  self.obj[item] = s\n"
     ]
    }
   ],
   "source": [
    "water_extent_df = pd.read_csv('./water_type_w_total.csv')\n",
    "water_extent_df = water_extent_df[['HYBAS_ID', 'Year', 'Ephemeral', 'Seasonal', 'Permanent']]\n",
    "hydrobasin_extent_df = water_extent_df[water_extent_df['Year']!='baseline']\n",
    "hydrobasin_extent_df[['Year']] = hydrobasin_extent_df['Year'].astype('int')\n",
    "baseline = water_extent_df[water_extent_df['Year']=='baseline']"
   ]
  },
  {
   "cell_type": "code",
   "execution_count": 11,
   "metadata": {},
   "outputs": [],
   "source": [
    "cols = ['HYBAS_ID', 'Water Type','2010-2014 av. water extent', '2010-2014 % change from baseline',\n",
    "        '2015-2019 av. water extent', '2015-2019 % change from baseline']\n",
    "water_extent_change = pd.DataFrame(columns = cols)\n",
    "\n",
    "for basin_id in baseline['HYBAS_ID']:\n",
    "    for water_type in baseline.columns[2:]:\n",
    "        baseline_extent = baseline[(baseline['HYBAS_ID'] == basin_id)][water_type].values[0]\n",
    "        \n",
    "        filtered_2010_2014 = filter_years(hydrobasin_extent_df, 2010, 2014, basin_id, water_type)\n",
    "        filtered_2015_2019 = filter_years(hydrobasin_extent_df, 2015, 2019, basin_id, water_type)\n",
    "        \n",
    "        filtered_2010_2014 = filtered_2010_2014.mean()\n",
    "        filtered_2015_2019 = filtered_2015_2019.mean()\n",
    "\n",
    "        if baseline_extent == 0:\n",
    "            perc_change_2010_2014 = 'NA'\n",
    "            perc_change_2015_2019 = 'NA'\n",
    "\n",
    "        else:\n",
    "            perc_change_2010_2014 = (baseline_extent-filtered_2010_2014)/baseline_extent*100\n",
    "            perc_change_2015_2019 = (baseline_extent-filtered_2015_2019)/baseline_extent*100\n",
    "            \n",
    "        values = [basin_id, water_type, filtered_2010_2014, perc_change_2010_2014, \n",
    "                  filtered_2015_2019, perc_change_2015_2019]\n",
    "            \n",
    "        hydrobasin_extent_change = pd.DataFrame([values], columns = cols)        \n",
    "        water_extent_change = pd.concat([water_extent_change, hydrobasin_extent_change])"
   ]
  },
  {
   "cell_type": "code",
   "execution_count": 12,
   "metadata": {},
   "outputs": [],
   "source": [
    "baseline_melt = pd.melt(baseline, id_vars=['HYBAS_ID'], value_vars=['Ephemeral', 'Seasonal', 'Permanent']\n",
    "                        , value_name = 'Baseline', var_name = 'Water Type')\n",
    "water_extent_w_baseline = baseline_melt.merge(water_extent_change, how = 'left',\n",
    "                                   on = ['HYBAS_ID', 'Water Type'])"
   ]
  },
  {
   "cell_type": "code",
   "execution_count": 13,
   "metadata": {},
   "outputs": [],
   "source": [
    "water_extent_w_baseline.to_csv('water_extent_change.csv', index =False)"
   ]
  }
 ],
 "metadata": {
  "kernelspec": {
   "display_name": "sdg-water",
   "language": "python",
   "name": "sdg-water"
  },
  "language_info": {
   "codemirror_mode": {
    "name": "ipython",
    "version": 3
   },
   "file_extension": ".py",
   "mimetype": "text/x-python",
   "name": "python",
   "nbconvert_exporter": "python",
   "pygments_lexer": "ipython3",
   "version": "3.8.1"
  }
 },
 "nbformat": 4,
 "nbformat_minor": 4
}
