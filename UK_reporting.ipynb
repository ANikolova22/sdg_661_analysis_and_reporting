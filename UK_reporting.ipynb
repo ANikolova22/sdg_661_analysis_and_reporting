{
  "cells": [
    {
      "cell_type": "markdown",
      "metadata": {
        "id": "JvxVumgxe7sq"
      },
      "source": [
        "# SDG 6.6.1: Analysis and Reporting"
      ]
    },
    {
      "cell_type": "markdown",
      "metadata": {
        "id": "Au6W-6bJyjPs"
      },
      "source": [
        "## Setup"
      ]
    },
    {
      "cell_type": "code",
      "execution_count": null,
      "metadata": {
        "id": "8cDf0AKce_Eb"
      },
      "outputs": [],
      "source": [
        "# Install required geospatial libraries\n",
        "!pip3 install gdal rtree geopandas rasterio"
      ]
    },
    {
      "cell_type": "code",
      "execution_count": 31,
      "metadata": {
        "id": "bq6EtYypwGTL"
      },
      "outputs": [],
      "source": [
        "from datetime import datetime\n",
        "import os\n",
        "\n",
        "import altair as alt\n",
        "import ee\n",
        "import geopandas as gpd\n",
        "from google.colab import drive\n",
        "import pandas as pd\n",
        "from shapely.ops import unary_union"
      ]
    },
    {
      "cell_type": "code",
      "execution_count": null,
      "metadata": {
        "id": "s0RQl2nMyNYk"
      },
      "outputs": [],
      "source": [
        "# Mount your Google Drive if not already done so\n",
        "# You may see a pop-up window in which to confirm access.\n",
        "drive.mount('drive')\n",
        "drive_home = '/content/drive/MyDrive'"
      ]
    },
    {
      "cell_type": "code",
      "execution_count": 5,
      "metadata": {
        "id": "rNi8P53gzDad"
      },
      "outputs": [],
      "source": [
        "# Set name of directory where repo is located. By default 'sdg_661_analysis_and_reporting'\n",
        "repo_dir_name = 'sdg_661_analysis_and_reporting'"
      ]
    },
    {
      "cell_type": "code",
      "execution_count": 19,
      "metadata": {
        "colab": {
          "base_uri": "https://localhost:8080/"
        },
        "id": "x_oQr6L6fRj_",
        "outputId": "30f720a9-8275-4faf-9b28-a01c55e72fb8"
      },
      "outputs": [
        {
          "output_type": "stream",
          "name": "stdout",
          "text": [
            "Current working directory set to: /content/drive/MyDrive/sdg_661_analysis_and_reporting\n"
          ]
        }
      ],
      "source": [
        "# Change working directory to repository directory\n",
        "repo_dir_path = os.path.join(drive_home, repo_dir_name)\n",
        "os.chdir(repo_dir_path)\n",
        "print(f'Current working directory set to: {os.path.abspath(os.curdir)}')"
      ]
    },
    {
      "cell_type": "code",
      "execution_count": 10,
      "metadata": {
        "id": "jHGhNAgXfewa",
        "colab": {
          "base_uri": "https://localhost:8080/"
        },
        "outputId": "a92018aa-5a5a-444d-e04e-c671acc46878"
      },
      "outputs": [
        {
          "output_type": "stream",
          "name": "stdout",
          "text": [
            "Using Asset ID: JRC/GSW1_3/YearlyHistory\n"
          ]
        }
      ],
      "source": [
        "# Can now import the GSWE library\n",
        "from GSWE_reporting import (extract_gswe, clip_basin_to_boundary,\n",
        "                            get_gswe_paths, reproject_GSWE,\n",
        "                            surface_water_extent)\n",
        "from GSWE_reporting.GEE_extractor import GSWE_YEARLY\n",
        "\n",
        "print(f'Using Asset ID: {GSWE_YEARLY}')"
      ]
    },
    {
      "cell_type": "code",
      "execution_count": null,
      "metadata": {
        "id": "HtNKkayfe7ss"
      },
      "outputs": [],
      "source": [
        "# Autheticate Earth Engine access\n",
        "# Follow the link below to generate a verification code and enter in\n",
        "# the box provided and hit return.\n",
        "ee.Authenticate()"
      ]
    },
    {
      "cell_type": "code",
      "execution_count": 13,
      "metadata": {
        "id": "NxiQY9Lye7su"
      },
      "outputs": [],
      "source": [
        "# Earth Engine requires initialisation\n",
        "ee.Initialize()"
      ]
    },
    {
      "cell_type": "markdown",
      "source": [
        "## User Settings\n",
        "These settings allow the user to specify the analysis time frame, where imagery is stored, and the names of the output files.\n",
        "\n",
        "Note that since the working directory is set to `repo_dir_path` any location beginning with `.` are relative paths within that directory."
      ],
      "metadata": {
        "id": "5fsRunfOoEZL"
      }
    },
    {
      "cell_type": "code",
      "source": [
        "# Specify directory to store downloaded GSWE images. This directory must be a\n",
        "# valid Google Drive path. If the directory does not exist it will be created.\n",
        "# Default setting uses repo_dir_path/gswe_exports.\n",
        "gswe_export_dir = './gswe_exports'\n",
        "\n",
        "# Specify year range for analysis\n",
        "start_yr = 1984  # <<<< Inclusive\n",
        "end_yr = 2022  # <<<< Exclusive i.e. data in year == end_yr will be excluded\n",
        "\n",
        "# Specify the directory to store reprojected images. Default setting uses\n",
        "# repo_dir_path/Reprojected\n",
        "reproj_dir = './Reprojected/'\n",
        "\n",
        "# Output files\n",
        "# By default these are saved in repo_dir_path. If such files already exist they\n",
        "# will be overwritten!\n",
        "water_extent_file = './water_extent_by_basin_by_year.csv'\n",
        "water_extent_change_file = './water_extent_change.csv'"
      ],
      "metadata": {
        "id": "zLTZHLoXaB-q"
      },
      "execution_count": 30,
      "outputs": []
    },
    {
      "cell_type": "markdown",
      "metadata": {
        "id": "3LeRISige7ss"
      },
      "source": [
        "## Extracting GSWE data"
      ]
    },
    {
      "cell_type": "code",
      "execution_count": 14,
      "metadata": {
        "id": "3-ewJgtDe7sv"
      },
      "outputs": [],
      "source": [
        "# Create a bounding box geometry for the UK\n",
        "geometry = ee.Geometry.Polygon(\n",
        "        [[[-12.598544729822379, 61.78863494939058],\n",
        "          [-12.598544729822379, 49.00174346741333],\n",
        "          [3.749111520177621, 49.00174346741333],\n",
        "          [3.749111520177621, 61.78863494939058]]])"
      ]
    },
    {
      "cell_type": "code",
      "execution_count": null,
      "metadata": {
        "id": "QzhoHmVle7sv"
      },
      "outputs": [],
      "source": [
        "# Extract the GWSE imagery from Earth Engine.\n",
        "assert start_yr is not None and end_yr is not None\n",
        "extract_gswe(GSWE_YEARLY, geometry, start_yr, end_yr, gswe_export_dir)"
      ]
    },
    {
      "cell_type": "markdown",
      "metadata": {
        "id": "fL-vpIVghFqX"
      },
      "source": [
        "This will start background tasks for downloading the imagery to your drive. You can check the status of these tasks at https://code.earthengine.google.com/tasks. Note that this may take some time."
      ]
    },
    {
      "cell_type": "markdown",
      "metadata": {
        "id": "t0ZIQCnSe7sw"
      },
      "source": [
        "---\n",
        "## Preparing HydroBASIN boundary\n",
        "\n",
        "This step can be done while the GSWE imagery is processing."
      ]
    },
    {
      "cell_type": "code",
      "execution_count": 16,
      "metadata": {
        "id": "rUry4yhie7sx"
      },
      "outputs": [],
      "source": [
        "# Load hydrobasins\n",
        "eu_hydrobasin = gpd.read_file('./boundaries/hybas_eu_lev06_v1c.shp')\n",
        "\n",
        "# Load UK boundary\n",
        "uk_boundary = gpd.read_file('./boundaries/Countries_December_2018_Boundaries_UK_BFC.shp') "
      ]
    },
    {
      "cell_type": "code",
      "execution_count": 17,
      "metadata": {
        "id": "VH5iRoKHe7sy"
      },
      "outputs": [],
      "source": [
        "# Configure coordinate reference systems\n",
        "target_crs = ('+proj=utm +zone=30 +ellps=WGS84 +datum=WGS84 +units=m +no_defs ')\n",
        "osgb_proj4 = ('+proj=tmerc +lat_0=49 +lon_0=-2 +k=0.9996012717 +x_0=400000 +y_0=-100000 +ellps=airy +datum=OSGB36 +units=m +no_defs')\n",
        "uk_boundary.crs = osgb_proj4  "
      ]
    },
    {
      "cell_type": "code",
      "execution_count": 18,
      "metadata": {
        "colab": {
          "base_uri": "https://localhost:8080/"
        },
        "id": "MFYe8EVXe7sy",
        "outputId": "c5ae12b8-a439-4aa2-d36f-25fa0bb85894"
      },
      "outputs": [
        {
          "output_type": "stream",
          "name": "stdout",
          "text": [
            "union national boundary\n"
          ]
        }
      ],
      "source": [
        "# Clip the hydrobasins by the UK boundary\n",
        "hydro_clipped = clip_basin_to_boundary(eu_hydrobasin, uk_boundary, target_crs)"
      ]
    },
    {
      "cell_type": "code",
      "execution_count": 22,
      "metadata": {
        "id": "0_7a0J_ye7sz"
      },
      "outputs": [],
      "source": [
        "# Clean and save file\n",
        "hydro_clipped = hydro_clipped.drop(hydro_clipped.columns[1:-1], axis=1) \n",
        "hydro_clipped.to_file('./boundaries/UK_hydrobasin_UTM.shp')"
      ]
    },
    {
      "cell_type": "markdown",
      "metadata": {
        "id": "z396dqZye7sz"
      },
      "source": [
        "---\n",
        "## Preparing GSWE outputs\n",
        "\n",
        "**Note:** Only continue once the imagery is available\n",
        "\n",
        "The remaining cells of the notebook can be run without intervention by selecting `Runtime -> Run after` from the menu bar. However, users are encouraged to step through the cells to follow the process. Outputs will be created in the locations specified in USER SETTINGS above."
      ]
    },
    {
      "cell_type": "code",
      "execution_count": 23,
      "metadata": {
        "colab": {
          "base_uri": "https://localhost:8080/"
        },
        "id": "ybU6pU7ce7s1",
        "outputId": "2a18fdd1-4b01-4244-84d1-ab16b78cfde8"
      },
      "outputs": [
        {
          "output_type": "stream",
          "name": "stdout",
          "text": [
            "Found 37 images.\n"
          ]
        }
      ],
      "source": [
        "# Get paths to exported images\n",
        "gsw_files = get_gswe_paths(gswe_export_dir, '.tif')\n",
        "print(f'Found {len(gsw_files)} images.')"
      ]
    },
    {
      "cell_type": "code",
      "execution_count": null,
      "metadata": {
        "id": "lidTt75he7s1"
      },
      "outputs": [],
      "source": [
        "# Reproject images to UTM for valid area calculations\n",
        "# These files will be saved repo_dir_path/Reprojected/\n",
        "reproject_GSWE(gsw_files, '+proj=utm +zone=30 +ellps=WGS84 +datum=WGS84 +units=m +no_defs ')"
      ]
    },
    {
      "cell_type": "markdown",
      "metadata": {
        "id": "SowWa1vme7s1"
      },
      "source": [
        "---\n",
        "## Calculating Water Extent"
      ]
    },
    {
      "cell_type": "code",
      "execution_count": 29,
      "metadata": {
        "colab": {
          "base_uri": "https://localhost:8080/"
        },
        "id": "Ukcmf05qe7s2",
        "outputId": "8a216e2d-06fc-4577-dda4-7522422f4931"
      },
      "outputs": [
        {
          "output_type": "stream",
          "name": "stdout",
          "text": [
            "Found 0 reprojected images.\n"
          ]
        }
      ],
      "source": [
        "# Get paths to the reprojected images\n",
        "gsw_file_path_list = get_gswe_paths(reproj_dir, 'UTM.tif')\n",
        "print(f'Found {len(gsw_file_path_list)} reprojected images.')"
      ]
    },
    {
      "cell_type": "code",
      "execution_count": null,
      "metadata": {
        "id": "axAMG9Mwe7s3"
      },
      "outputs": [],
      "source": [
        "# Read in the hydrobasin file created in section Preparing HydroBASIN boundary\n",
        "hydro_basin = gpd.read_file('./boundaries/UK_hydrobasin_UTM.shp')"
      ]
    },
    {
      "cell_type": "code",
      "execution_count": null,
      "metadata": {
        "id": "yrNkf8eFe7s3"
      },
      "outputs": [],
      "source": [
        "# Calculate the water extent by type for each hydrobasin for each year\n",
        "water_extent = surface_water_extent(gsw_file_path_list, hydro_basin)"
      ]
    },
    {
      "cell_type": "code",
      "execution_count": null,
      "metadata": {
        "id": "Nd9spy-ASjVD"
      },
      "outputs": [],
      "source": [
        "# Preview results\n",
        "water_extent.head()"
      ]
    },
    {
      "cell_type": "code",
      "execution_count": null,
      "metadata": {
        "id": "6d9qOPpqe7s3"
      },
      "outputs": [],
      "source": [
        "# Calculate water extent as percentage of hydrobasin area\n",
        "hydro_basin['area'] = hydro_basin.area / 1000000\n",
        "water_extent = hydro_basin[['HYBAS_ID', 'area']].merge(water_extent, on='HYBAS_ID', how = 'left')\n",
        "water_extent[['% Ephemeral', '% Seasonal', '% Permanent']] = water_extent[['Ephemeral', 'Seasonal', 'Permanent']].div(water_extent['area'], axis=0)*100"
      ]
    },
    {
      "cell_type": "code",
      "execution_count": null,
      "metadata": {
        "colab": {
          "base_uri": "https://localhost:8080/",
          "height": 206
        },
        "id": "si1Qjkb4SscK",
        "outputId": "f7dfa94d-460e-4124-fbac-2eaaa6bb2e27"
      },
      "outputs": [
        {
          "data": {
            "text/html": [
              "\n",
              "  <div id=\"df-3b9bf863-e073-4a61-b6c3-1a4c34a5b293\">\n",
              "    <div class=\"colab-df-container\">\n",
              "      <div>\n",
              "<style scoped>\n",
              "    .dataframe tbody tr th:only-of-type {\n",
              "        vertical-align: middle;\n",
              "    }\n",
              "\n",
              "    .dataframe tbody tr th {\n",
              "        vertical-align: top;\n",
              "    }\n",
              "\n",
              "    .dataframe thead th {\n",
              "        text-align: right;\n",
              "    }\n",
              "</style>\n",
              "<table border=\"1\" class=\"dataframe\">\n",
              "  <thead>\n",
              "    <tr style=\"text-align: right;\">\n",
              "      <th></th>\n",
              "      <th>HYBAS_ID</th>\n",
              "      <th>area</th>\n",
              "      <th>Year</th>\n",
              "      <th>Ephemeral</th>\n",
              "      <th>Seasonal</th>\n",
              "      <th>Permanent</th>\n",
              "      <th>% Ephemeral</th>\n",
              "      <th>% Seasonal</th>\n",
              "      <th>% Permanent</th>\n",
              "    </tr>\n",
              "  </thead>\n",
              "  <tbody>\n",
              "    <tr>\n",
              "      <th>0</th>\n",
              "      <td>2060048790</td>\n",
              "      <td>4569.73882</td>\n",
              "      <td>1984</td>\n",
              "      <td>2.810391</td>\n",
              "      <td>1.736887</td>\n",
              "      <td>3.386747</td>\n",
              "      <td>0.061500</td>\n",
              "      <td>0.038008</td>\n",
              "      <td>0.074112</td>\n",
              "    </tr>\n",
              "    <tr>\n",
              "      <th>1</th>\n",
              "      <td>2060048790</td>\n",
              "      <td>4569.73882</td>\n",
              "      <td>1985</td>\n",
              "      <td>2.571197</td>\n",
              "      <td>3.154850</td>\n",
              "      <td>3.879204</td>\n",
              "      <td>0.056266</td>\n",
              "      <td>0.069038</td>\n",
              "      <td>0.084889</td>\n",
              "    </tr>\n",
              "    <tr>\n",
              "      <th>2</th>\n",
              "      <td>2060048790</td>\n",
              "      <td>4569.73882</td>\n",
              "      <td>1986</td>\n",
              "      <td>3.083978</td>\n",
              "      <td>2.132416</td>\n",
              "      <td>3.560280</td>\n",
              "      <td>0.067487</td>\n",
              "      <td>0.046664</td>\n",
              "      <td>0.077910</td>\n",
              "    </tr>\n",
              "    <tr>\n",
              "      <th>3</th>\n",
              "      <td>2060048790</td>\n",
              "      <td>4569.73882</td>\n",
              "      <td>1987</td>\n",
              "      <td>2.735871</td>\n",
              "      <td>2.612366</td>\n",
              "      <td>3.802078</td>\n",
              "      <td>0.059869</td>\n",
              "      <td>0.057167</td>\n",
              "      <td>0.083201</td>\n",
              "    </tr>\n",
              "    <tr>\n",
              "      <th>4</th>\n",
              "      <td>2060048790</td>\n",
              "      <td>4569.73882</td>\n",
              "      <td>1988</td>\n",
              "      <td>2.205372</td>\n",
              "      <td>1.254853</td>\n",
              "      <td>3.036556</td>\n",
              "      <td>0.048260</td>\n",
              "      <td>0.027460</td>\n",
              "      <td>0.066449</td>\n",
              "    </tr>\n",
              "  </tbody>\n",
              "</table>\n",
              "</div>\n",
              "      <button class=\"colab-df-convert\" onclick=\"convertToInteractive('df-3b9bf863-e073-4a61-b6c3-1a4c34a5b293')\"\n",
              "              title=\"Convert this dataframe to an interactive table.\"\n",
              "              style=\"display:none;\">\n",
              "        \n",
              "  <svg xmlns=\"http://www.w3.org/2000/svg\" height=\"24px\"viewBox=\"0 0 24 24\"\n",
              "       width=\"24px\">\n",
              "    <path d=\"M0 0h24v24H0V0z\" fill=\"none\"/>\n",
              "    <path d=\"M18.56 5.44l.94 2.06.94-2.06 2.06-.94-2.06-.94-.94-2.06-.94 2.06-2.06.94zm-11 1L8.5 8.5l.94-2.06 2.06-.94-2.06-.94L8.5 2.5l-.94 2.06-2.06.94zm10 10l.94 2.06.94-2.06 2.06-.94-2.06-.94-.94-2.06-.94 2.06-2.06.94z\"/><path d=\"M17.41 7.96l-1.37-1.37c-.4-.4-.92-.59-1.43-.59-.52 0-1.04.2-1.43.59L10.3 9.45l-7.72 7.72c-.78.78-.78 2.05 0 2.83L4 21.41c.39.39.9.59 1.41.59.51 0 1.02-.2 1.41-.59l7.78-7.78 2.81-2.81c.8-.78.8-2.07 0-2.86zM5.41 20L4 18.59l7.72-7.72 1.47 1.35L5.41 20z\"/>\n",
              "  </svg>\n",
              "      </button>\n",
              "      \n",
              "  <style>\n",
              "    .colab-df-container {\n",
              "      display:flex;\n",
              "      flex-wrap:wrap;\n",
              "      gap: 12px;\n",
              "    }\n",
              "\n",
              "    .colab-df-convert {\n",
              "      background-color: #E8F0FE;\n",
              "      border: none;\n",
              "      border-radius: 50%;\n",
              "      cursor: pointer;\n",
              "      display: none;\n",
              "      fill: #1967D2;\n",
              "      height: 32px;\n",
              "      padding: 0 0 0 0;\n",
              "      width: 32px;\n",
              "    }\n",
              "\n",
              "    .colab-df-convert:hover {\n",
              "      background-color: #E2EBFA;\n",
              "      box-shadow: 0px 1px 2px rgba(60, 64, 67, 0.3), 0px 1px 3px 1px rgba(60, 64, 67, 0.15);\n",
              "      fill: #174EA6;\n",
              "    }\n",
              "\n",
              "    [theme=dark] .colab-df-convert {\n",
              "      background-color: #3B4455;\n",
              "      fill: #D2E3FC;\n",
              "    }\n",
              "\n",
              "    [theme=dark] .colab-df-convert:hover {\n",
              "      background-color: #434B5C;\n",
              "      box-shadow: 0px 1px 3px 1px rgba(0, 0, 0, 0.15);\n",
              "      filter: drop-shadow(0px 1px 2px rgba(0, 0, 0, 0.3));\n",
              "      fill: #FFFFFF;\n",
              "    }\n",
              "  </style>\n",
              "\n",
              "      <script>\n",
              "        const buttonEl =\n",
              "          document.querySelector('#df-3b9bf863-e073-4a61-b6c3-1a4c34a5b293 button.colab-df-convert');\n",
              "        buttonEl.style.display =\n",
              "          google.colab.kernel.accessAllowed ? 'block' : 'none';\n",
              "\n",
              "        async function convertToInteractive(key) {\n",
              "          const element = document.querySelector('#df-3b9bf863-e073-4a61-b6c3-1a4c34a5b293');\n",
              "          const dataTable =\n",
              "            await google.colab.kernel.invokeFunction('convertToInteractive',\n",
              "                                                     [key], {});\n",
              "          if (!dataTable) return;\n",
              "\n",
              "          const docLinkHtml = 'Like what you see? Visit the ' +\n",
              "            '<a target=\"_blank\" href=https://colab.research.google.com/notebooks/data_table.ipynb>data table notebook</a>'\n",
              "            + ' to learn more about interactive tables.';\n",
              "          element.innerHTML = '';\n",
              "          dataTable['output_type'] = 'display_data';\n",
              "          await google.colab.output.renderOutput(dataTable, element);\n",
              "          const docLink = document.createElement('div');\n",
              "          docLink.innerHTML = docLinkHtml;\n",
              "          element.appendChild(docLink);\n",
              "        }\n",
              "      </script>\n",
              "    </div>\n",
              "  </div>\n",
              "  "
            ],
            "text/plain": [
              "     HYBAS_ID        area  Year  ...  % Ephemeral  % Seasonal  % Permanent\n",
              "0  2060048790  4569.73882  1984  ...     0.061500    0.038008     0.074112\n",
              "1  2060048790  4569.73882  1985  ...     0.056266    0.069038     0.084889\n",
              "2  2060048790  4569.73882  1986  ...     0.067487    0.046664     0.077910\n",
              "3  2060048790  4569.73882  1987  ...     0.059869    0.057167     0.083201\n",
              "4  2060048790  4569.73882  1988  ...     0.048260    0.027460     0.066449\n",
              "\n",
              "[5 rows x 9 columns]"
            ]
          },
          "execution_count": 12,
          "metadata": {},
          "output_type": "execute_result"
        }
      ],
      "source": [
        "# Preview results\n",
        "water_extent.head()"
      ]
    },
    {
      "cell_type": "markdown",
      "metadata": {
        "id": "oJYSzcUoe7s3"
      },
      "source": [
        "### National Water Extent"
      ]
    },
    {
      "cell_type": "code",
      "execution_count": null,
      "metadata": {
        "id": "LC3jcMcNe7s4"
      },
      "outputs": [],
      "source": [
        "# Calculate national water extent\n",
        "water_extent['HYBAS_ID'] = water_extent[\"HYBAS_ID\"].apply(str)\n",
        "water_type_by_year = water_extent.groupby(['Year'], as_index=False).sum() "
      ]
    },
    {
      "cell_type": "code",
      "execution_count": null,
      "metadata": {
        "colab": {
          "base_uri": "https://localhost:8080/",
          "height": 206
        },
        "id": "-Gn0JRK4S914",
        "outputId": "0800b78d-ecd7-4f00-91e6-13cf04a5237e"
      },
      "outputs": [
        {
          "data": {
            "text/html": [
              "\n",
              "  <div id=\"df-863fb145-7eb7-47d7-8b76-ea080cc797d4\">\n",
              "    <div class=\"colab-df-container\">\n",
              "      <div>\n",
              "<style scoped>\n",
              "    .dataframe tbody tr th:only-of-type {\n",
              "        vertical-align: middle;\n",
              "    }\n",
              "\n",
              "    .dataframe tbody tr th {\n",
              "        vertical-align: top;\n",
              "    }\n",
              "\n",
              "    .dataframe thead th {\n",
              "        text-align: right;\n",
              "    }\n",
              "</style>\n",
              "<table border=\"1\" class=\"dataframe\">\n",
              "  <thead>\n",
              "    <tr style=\"text-align: right;\">\n",
              "      <th></th>\n",
              "      <th>Year</th>\n",
              "      <th>area</th>\n",
              "      <th>Ephemeral</th>\n",
              "      <th>Seasonal</th>\n",
              "      <th>Permanent</th>\n",
              "      <th>% Ephemeral</th>\n",
              "      <th>% Seasonal</th>\n",
              "      <th>% Permanent</th>\n",
              "    </tr>\n",
              "  </thead>\n",
              "  <tbody>\n",
              "    <tr>\n",
              "      <th>0</th>\n",
              "      <td>1984</td>\n",
              "      <td>244147.376651</td>\n",
              "      <td>325.378393</td>\n",
              "      <td>155.430802</td>\n",
              "      <td>1928.471933</td>\n",
              "      <td>4.889480</td>\n",
              "      <td>2.924425</td>\n",
              "      <td>48.755351</td>\n",
              "    </tr>\n",
              "    <tr>\n",
              "      <th>1</th>\n",
              "      <td>1985</td>\n",
              "      <td>244147.376651</td>\n",
              "      <td>287.807334</td>\n",
              "      <td>210.411378</td>\n",
              "      <td>1849.862814</td>\n",
              "      <td>9.629608</td>\n",
              "      <td>6.338746</td>\n",
              "      <td>54.330165</td>\n",
              "    </tr>\n",
              "    <tr>\n",
              "      <th>2</th>\n",
              "      <td>1986</td>\n",
              "      <td>244147.376651</td>\n",
              "      <td>284.834875</td>\n",
              "      <td>209.191962</td>\n",
              "      <td>1860.879253</td>\n",
              "      <td>5.149310</td>\n",
              "      <td>7.708008</td>\n",
              "      <td>57.129038</td>\n",
              "    </tr>\n",
              "    <tr>\n",
              "      <th>3</th>\n",
              "      <td>1987</td>\n",
              "      <td>244147.376651</td>\n",
              "      <td>245.206441</td>\n",
              "      <td>254.372389</td>\n",
              "      <td>2069.407310</td>\n",
              "      <td>4.520509</td>\n",
              "      <td>8.570212</td>\n",
              "      <td>59.629123</td>\n",
              "    </tr>\n",
              "    <tr>\n",
              "      <th>4</th>\n",
              "      <td>1988</td>\n",
              "      <td>244147.376651</td>\n",
              "      <td>245.224680</td>\n",
              "      <td>237.680452</td>\n",
              "      <td>2088.768415</td>\n",
              "      <td>7.842463</td>\n",
              "      <td>7.700770</td>\n",
              "      <td>56.639291</td>\n",
              "    </tr>\n",
              "  </tbody>\n",
              "</table>\n",
              "</div>\n",
              "      <button class=\"colab-df-convert\" onclick=\"convertToInteractive('df-863fb145-7eb7-47d7-8b76-ea080cc797d4')\"\n",
              "              title=\"Convert this dataframe to an interactive table.\"\n",
              "              style=\"display:none;\">\n",
              "        \n",
              "  <svg xmlns=\"http://www.w3.org/2000/svg\" height=\"24px\"viewBox=\"0 0 24 24\"\n",
              "       width=\"24px\">\n",
              "    <path d=\"M0 0h24v24H0V0z\" fill=\"none\"/>\n",
              "    <path d=\"M18.56 5.44l.94 2.06.94-2.06 2.06-.94-2.06-.94-.94-2.06-.94 2.06-2.06.94zm-11 1L8.5 8.5l.94-2.06 2.06-.94-2.06-.94L8.5 2.5l-.94 2.06-2.06.94zm10 10l.94 2.06.94-2.06 2.06-.94-2.06-.94-.94-2.06-.94 2.06-2.06.94z\"/><path d=\"M17.41 7.96l-1.37-1.37c-.4-.4-.92-.59-1.43-.59-.52 0-1.04.2-1.43.59L10.3 9.45l-7.72 7.72c-.78.78-.78 2.05 0 2.83L4 21.41c.39.39.9.59 1.41.59.51 0 1.02-.2 1.41-.59l7.78-7.78 2.81-2.81c.8-.78.8-2.07 0-2.86zM5.41 20L4 18.59l7.72-7.72 1.47 1.35L5.41 20z\"/>\n",
              "  </svg>\n",
              "      </button>\n",
              "      \n",
              "  <style>\n",
              "    .colab-df-container {\n",
              "      display:flex;\n",
              "      flex-wrap:wrap;\n",
              "      gap: 12px;\n",
              "    }\n",
              "\n",
              "    .colab-df-convert {\n",
              "      background-color: #E8F0FE;\n",
              "      border: none;\n",
              "      border-radius: 50%;\n",
              "      cursor: pointer;\n",
              "      display: none;\n",
              "      fill: #1967D2;\n",
              "      height: 32px;\n",
              "      padding: 0 0 0 0;\n",
              "      width: 32px;\n",
              "    }\n",
              "\n",
              "    .colab-df-convert:hover {\n",
              "      background-color: #E2EBFA;\n",
              "      box-shadow: 0px 1px 2px rgba(60, 64, 67, 0.3), 0px 1px 3px 1px rgba(60, 64, 67, 0.15);\n",
              "      fill: #174EA6;\n",
              "    }\n",
              "\n",
              "    [theme=dark] .colab-df-convert {\n",
              "      background-color: #3B4455;\n",
              "      fill: #D2E3FC;\n",
              "    }\n",
              "\n",
              "    [theme=dark] .colab-df-convert:hover {\n",
              "      background-color: #434B5C;\n",
              "      box-shadow: 0px 1px 3px 1px rgba(0, 0, 0, 0.15);\n",
              "      filter: drop-shadow(0px 1px 2px rgba(0, 0, 0, 0.3));\n",
              "      fill: #FFFFFF;\n",
              "    }\n",
              "  </style>\n",
              "\n",
              "      <script>\n",
              "        const buttonEl =\n",
              "          document.querySelector('#df-863fb145-7eb7-47d7-8b76-ea080cc797d4 button.colab-df-convert');\n",
              "        buttonEl.style.display =\n",
              "          google.colab.kernel.accessAllowed ? 'block' : 'none';\n",
              "\n",
              "        async function convertToInteractive(key) {\n",
              "          const element = document.querySelector('#df-863fb145-7eb7-47d7-8b76-ea080cc797d4');\n",
              "          const dataTable =\n",
              "            await google.colab.kernel.invokeFunction('convertToInteractive',\n",
              "                                                     [key], {});\n",
              "          if (!dataTable) return;\n",
              "\n",
              "          const docLinkHtml = 'Like what you see? Visit the ' +\n",
              "            '<a target=\"_blank\" href=https://colab.research.google.com/notebooks/data_table.ipynb>data table notebook</a>'\n",
              "            + ' to learn more about interactive tables.';\n",
              "          element.innerHTML = '';\n",
              "          dataTable['output_type'] = 'display_data';\n",
              "          await google.colab.output.renderOutput(dataTable, element);\n",
              "          const docLink = document.createElement('div');\n",
              "          docLink.innerHTML = docLinkHtml;\n",
              "          element.appendChild(docLink);\n",
              "        }\n",
              "      </script>\n",
              "    </div>\n",
              "  </div>\n",
              "  "
            ],
            "text/plain": [
              "   Year           area   Ephemeral  ...  % Ephemeral  % Seasonal  % Permanent\n",
              "0  1984  244147.376651  325.378393  ...     4.889480    2.924425    48.755351\n",
              "1  1985  244147.376651  287.807334  ...     9.629608    6.338746    54.330165\n",
              "2  1986  244147.376651  284.834875  ...     5.149310    7.708008    57.129038\n",
              "3  1987  244147.376651  245.206441  ...     4.520509    8.570212    59.629123\n",
              "4  1988  244147.376651  245.224680  ...     7.842463    7.700770    56.639291\n",
              "\n",
              "[5 rows x 8 columns]"
            ]
          },
          "execution_count": 14,
          "metadata": {},
          "output_type": "execute_result"
        }
      ],
      "source": [
        "# Preview Results - note that the percentages are recalculated in a later step\n",
        "water_type_by_year.head()"
      ]
    },
    {
      "cell_type": "code",
      "execution_count": null,
      "metadata": {
        "colab": {
          "base_uri": "https://localhost:8080/",
          "height": 377
        },
        "id": "uokH8BmKe7s4",
        "outputId": "97f0fc6a-84a7-4e84-b059-cf1b3bcfc90a"
      },
      "outputs": [
        {
          "data": {
            "text/html": [
              "\n",
              "<div id=\"altair-viz-c730c6123d55426597432c28f4c74eec\"></div>\n",
              "<script type=\"text/javascript\">\n",
              "  var VEGA_DEBUG = (typeof VEGA_DEBUG == \"undefined\") ? {} : VEGA_DEBUG;\n",
              "  (function(spec, embedOpt){\n",
              "    let outputDiv = document.currentScript.previousElementSibling;\n",
              "    if (outputDiv.id !== \"altair-viz-c730c6123d55426597432c28f4c74eec\") {\n",
              "      outputDiv = document.getElementById(\"altair-viz-c730c6123d55426597432c28f4c74eec\");\n",
              "    }\n",
              "    const paths = {\n",
              "      \"vega\": \"https://cdn.jsdelivr.net/npm//vega@5?noext\",\n",
              "      \"vega-lib\": \"https://cdn.jsdelivr.net/npm//vega-lib?noext\",\n",
              "      \"vega-lite\": \"https://cdn.jsdelivr.net/npm//vega-lite@4.17.0?noext\",\n",
              "      \"vega-embed\": \"https://cdn.jsdelivr.net/npm//vega-embed@6?noext\",\n",
              "    };\n",
              "\n",
              "    function maybeLoadScript(lib, version) {\n",
              "      var key = `${lib.replace(\"-\", \"\")}_version`;\n",
              "      return (VEGA_DEBUG[key] == version) ?\n",
              "        Promise.resolve(paths[lib]) :\n",
              "        new Promise(function(resolve, reject) {\n",
              "          var s = document.createElement('script');\n",
              "          document.getElementsByTagName(\"head\")[0].appendChild(s);\n",
              "          s.async = true;\n",
              "          s.onload = () => {\n",
              "            VEGA_DEBUG[key] = version;\n",
              "            return resolve(paths[lib]);\n",
              "          };\n",
              "          s.onerror = () => reject(`Error loading script: ${paths[lib]}`);\n",
              "          s.src = paths[lib];\n",
              "        });\n",
              "    }\n",
              "\n",
              "    function showError(err) {\n",
              "      outputDiv.innerHTML = `<div class=\"error\" style=\"color:red;\">${err}</div>`;\n",
              "      throw err;\n",
              "    }\n",
              "\n",
              "    function displayChart(vegaEmbed) {\n",
              "      vegaEmbed(outputDiv, spec, embedOpt)\n",
              "        .catch(err => showError(`Javascript Error: ${err.message}<br>This usually means there's a typo in your chart specification. See the javascript console for the full traceback.`));\n",
              "    }\n",
              "\n",
              "    if(typeof define === \"function\" && define.amd) {\n",
              "      requirejs.config({paths});\n",
              "      require([\"vega-embed\"], displayChart, err => showError(`Error loading script: ${err.message}`));\n",
              "    } else {\n",
              "      maybeLoadScript(\"vega\", \"5\")\n",
              "        .then(() => maybeLoadScript(\"vega-lite\", \"4.17.0\"))\n",
              "        .then(() => maybeLoadScript(\"vega-embed\", \"6\"))\n",
              "        .catch(showError)\n",
              "        .then(() => displayChart(vegaEmbed));\n",
              "    }\n",
              "  })({\"config\": {\"view\": {\"continuousWidth\": 400, \"continuousHeight\": 300}}, \"data\": {\"name\": \"data-9ee1b39b99b2ce35b6e9424621584b1b\"}, \"mark\": {\"type\": \"bar\", \"opacity\": 0.7}, \"encoding\": {\"color\": {\"field\": \"Type\", \"scale\": {\"domain\": [\"Permanent\", \"Ephemeral\", \"Seasonal\"], \"range\": [\"#1f78b4\", \"#b2df8a\", \"#a6cee3\"]}, \"title\": \"Water Type\", \"type\": \"nominal\"}, \"order\": {\"aggregate\": \"sum\", \"field\": \"Type\", \"sort\": \"ascending\", \"type\": \"nominal\"}, \"tooltip\": [{\"field\": \"Year\", \"type\": \"nominal\"}, {\"field\": \"Extent\", \"title\": \"Extent\", \"type\": \"quantitative\"}], \"x\": {\"field\": \"Year\", \"title\": \"Year\", \"type\": \"nominal\"}, \"y\": {\"aggregate\": \"sum\", \"field\": \"Extent\", \"title\": \"Water Extent (km\\u00b2)\", \"type\": \"quantitative\"}}, \"selection\": {\"selector001\": {\"type\": \"interval\", \"bind\": \"scales\", \"encodings\": [\"x\", \"y\"]}}, \"$schema\": \"https://vega.github.io/schema/vega-lite/v4.17.0.json\", \"datasets\": {\"data-9ee1b39b99b2ce35b6e9424621584b1b\": [{\"Year\": \"1984\", \"Type\": \"Ephemeral\", \"Extent\": 325.378393168321}, {\"Year\": \"1985\", \"Type\": \"Ephemeral\", \"Extent\": 287.8073336261212}, {\"Year\": \"1986\", \"Type\": \"Ephemeral\", \"Extent\": 284.8348753597758}, {\"Year\": \"1987\", \"Type\": \"Ephemeral\", \"Extent\": 245.20644112691474}, {\"Year\": \"1988\", \"Type\": \"Ephemeral\", \"Extent\": 245.2246802642433}, {\"Year\": \"1989\", \"Type\": \"Ephemeral\", \"Extent\": 278.22396975548793}, {\"Year\": \"1990\", \"Type\": \"Ephemeral\", \"Extent\": 256.67312620627405}, {\"Year\": \"1991\", \"Type\": \"Ephemeral\", \"Extent\": 0.0}, {\"Year\": \"1992\", \"Type\": \"Ephemeral\", \"Extent\": 0.0}, {\"Year\": \"1993\", \"Type\": \"Ephemeral\", \"Extent\": 0.0}, {\"Year\": \"1994\", \"Type\": \"Ephemeral\", \"Extent\": 244.05424876595933}, {\"Year\": \"1995\", \"Type\": \"Ephemeral\", \"Extent\": 0.0}, {\"Year\": \"1996\", \"Type\": \"Ephemeral\", \"Extent\": 0.0}, {\"Year\": \"1997\", \"Type\": \"Ephemeral\", \"Extent\": 182.3293602186558}, {\"Year\": \"1998\", \"Type\": \"Ephemeral\", \"Extent\": 260.5606680483037}, {\"Year\": \"1999\", \"Type\": \"Ephemeral\", \"Extent\": 395.87787012528884}, {\"Year\": \"2000\", \"Type\": \"Ephemeral\", \"Extent\": 289.09032665763306}, {\"Year\": \"2001\", \"Type\": \"Ephemeral\", \"Extent\": 311.39366490120216}, {\"Year\": \"2002\", \"Type\": \"Ephemeral\", \"Extent\": 311.35666550833554}, {\"Year\": \"2003\", \"Type\": \"Ephemeral\", \"Extent\": 304.62017041558545}, {\"Year\": \"2004\", \"Type\": \"Ephemeral\", \"Extent\": 258.6950648586969}, {\"Year\": \"2005\", \"Type\": \"Ephemeral\", \"Extent\": 245.0605280282863}, {\"Year\": \"2006\", \"Type\": \"Ephemeral\", \"Extent\": 287.60253416983204}, {\"Year\": \"2007\", \"Type\": \"Ephemeral\", \"Extent\": 236.4485284999509}, {\"Year\": \"2008\", \"Type\": \"Ephemeral\", \"Extent\": 249.36704891066336}, {\"Year\": \"2009\", \"Type\": \"Ephemeral\", \"Extent\": 295.7215558720869}, {\"Year\": \"2010\", \"Type\": \"Ephemeral\", \"Extent\": 424.9296891804243}, {\"Year\": \"2011\", \"Type\": \"Ephemeral\", \"Extent\": 276.849259919124}, {\"Year\": \"2012\", \"Type\": \"Ephemeral\", \"Extent\": 356.3104067229261}, {\"Year\": \"2013\", \"Type\": \"Ephemeral\", \"Extent\": 261.86346357177194}, {\"Year\": \"2014\", \"Type\": \"Ephemeral\", \"Extent\": 219.4454835640604}, {\"Year\": \"2015\", \"Type\": \"Ephemeral\", \"Extent\": 247.42901028995178}, {\"Year\": \"2016\", \"Type\": \"Ephemeral\", \"Extent\": 209.8324159554919}, {\"Year\": \"2017\", \"Type\": \"Ephemeral\", \"Extent\": 252.2337201805032}, {\"Year\": \"2018\", \"Type\": \"Ephemeral\", \"Extent\": 228.61351622181206}, {\"Year\": \"2019\", \"Type\": \"Ephemeral\", \"Extent\": 259.98535354514}, {\"Year\": \"1984\", \"Type\": \"Seasonal\", \"Extent\": 155.43080160470882}, {\"Year\": \"1985\", \"Type\": \"Seasonal\", \"Extent\": 210.4113782861213}, {\"Year\": \"1986\", \"Type\": \"Seasonal\", \"Extent\": 209.19196167615488}, {\"Year\": \"1987\", \"Type\": \"Seasonal\", \"Extent\": 254.3723893118288}, {\"Year\": \"1988\", \"Type\": \"Seasonal\", \"Extent\": 237.68045194694255}, {\"Year\": \"1989\", \"Type\": \"Seasonal\", \"Extent\": 288.5916165312492}, {\"Year\": \"1990\", \"Type\": \"Seasonal\", \"Extent\": 280.7378439975725}, {\"Year\": \"1991\", \"Type\": \"Seasonal\", \"Extent\": 0.0}, {\"Year\": \"1992\", \"Type\": \"Seasonal\", \"Extent\": 0.0}, {\"Year\": \"1993\", \"Type\": \"Seasonal\", \"Extent\": 0.0}, {\"Year\": \"1994\", \"Type\": \"Seasonal\", \"Extent\": 144.61082422319927}, {\"Year\": \"1995\", \"Type\": \"Seasonal\", \"Extent\": 0.0}, {\"Year\": \"1996\", \"Type\": \"Seasonal\", \"Extent\": 0.0}, {\"Year\": \"1997\", \"Type\": \"Seasonal\", \"Extent\": 36.358938587164864}, {\"Year\": \"1998\", \"Type\": \"Seasonal\", \"Extent\": 169.01635332343704}, {\"Year\": \"1999\", \"Type\": \"Seasonal\", \"Extent\": 81.85360050309939}, {\"Year\": \"2000\", \"Type\": \"Seasonal\", \"Extent\": 255.12592624260293}, {\"Year\": \"2001\", \"Type\": \"Seasonal\", \"Extent\": 172.43228318597113}, {\"Year\": \"2002\", \"Type\": \"Seasonal\", \"Extent\": 195.394314846206}, {\"Year\": \"2003\", \"Type\": \"Seasonal\", \"Extent\": 205.56810564807526}, {\"Year\": \"2004\", \"Type\": \"Seasonal\", \"Extent\": 91.81060612986353}, {\"Year\": \"2005\", \"Type\": \"Seasonal\", \"Extent\": 55.995193835089644}, {\"Year\": \"2006\", \"Type\": \"Seasonal\", \"Extent\": 83.80518819725502}, {\"Year\": \"2007\", \"Type\": \"Seasonal\", \"Extent\": 56.782082331264526}, {\"Year\": \"2008\", \"Type\": \"Seasonal\", \"Extent\": 30.87833837903809}, {\"Year\": \"2009\", \"Type\": \"Seasonal\", \"Extent\": 162.20638056316318}, {\"Year\": \"2010\", \"Type\": \"Seasonal\", \"Extent\": 112.97530108592137}, {\"Year\": \"2011\", \"Type\": \"Seasonal\", \"Extent\": 244.95734662282757}, {\"Year\": \"2012\", \"Type\": \"Seasonal\", \"Extent\": 106.8563310712951}, {\"Year\": \"2013\", \"Type\": \"Seasonal\", \"Extent\": 261.8947306643352}, {\"Year\": \"2014\", \"Type\": \"Seasonal\", \"Extent\": 334.8726458251492}, {\"Year\": \"2015\", \"Type\": \"Seasonal\", \"Extent\": 296.72783513441397}, {\"Year\": \"2016\", \"Type\": \"Seasonal\", \"Extent\": 407.78906903725544}, {\"Year\": \"2017\", \"Type\": \"Seasonal\", \"Extent\": 384.50811303287566}, {\"Year\": \"2018\", \"Type\": \"Seasonal\", \"Extent\": 397.66217887423113}, {\"Year\": \"2019\", \"Type\": \"Seasonal\", \"Extent\": 393.86166377316925}, {\"Year\": \"1984\", \"Type\": \"Permanent\", \"Extent\": 1928.4719326236257}, {\"Year\": \"1985\", \"Type\": \"Permanent\", \"Extent\": 1849.8628140921714}, {\"Year\": \"1986\", \"Type\": \"Permanent\", \"Extent\": 1860.8792530386202}, {\"Year\": \"1987\", \"Type\": \"Permanent\", \"Extent\": 2069.4073101160157}, {\"Year\": \"1988\", \"Type\": \"Permanent\", \"Extent\": 2088.7684149493834}, {\"Year\": \"1989\", \"Type\": \"Permanent\", \"Extent\": 2127.855407362692}, {\"Year\": \"1990\", \"Type\": \"Permanent\", \"Extent\": 2128.624056721538}, {\"Year\": \"1991\", \"Type\": \"Permanent\", \"Extent\": 0.0}, {\"Year\": \"1992\", \"Type\": \"Permanent\", \"Extent\": 0.0}, {\"Year\": \"1993\", \"Type\": \"Permanent\", \"Extent\": 0.0}, {\"Year\": \"1994\", \"Type\": \"Permanent\", \"Extent\": 1905.5401258195345}, {\"Year\": \"1995\", \"Type\": \"Permanent\", \"Extent\": 0.0}, {\"Year\": \"1996\", \"Type\": \"Permanent\", \"Extent\": 0.0}, {\"Year\": \"1997\", \"Type\": \"Permanent\", \"Extent\": 711.892811307338}, {\"Year\": \"1998\", \"Type\": \"Permanent\", \"Extent\": 2003.6395865002846}, {\"Year\": \"1999\", \"Type\": \"Permanent\", \"Extent\": 1703.6172420461244}, {\"Year\": \"2000\", \"Type\": \"Permanent\", \"Extent\": 2114.2167015866057}, {\"Year\": \"2001\", \"Type\": \"Permanent\", \"Extent\": 2086.130514573465}, {\"Year\": \"2002\", \"Type\": \"Permanent\", \"Extent\": 2144.7318205737006}, {\"Year\": \"2003\", \"Type\": \"Permanent\", \"Extent\": 2119.6196551815333}, {\"Year\": \"2004\", \"Type\": \"Permanent\", \"Extent\": 1452.9411441934797}, {\"Year\": \"2005\", \"Type\": \"Permanent\", \"Extent\": 606.1657433957853}, {\"Year\": \"2006\", \"Type\": \"Permanent\", \"Extent\": 1445.143131308207}, {\"Year\": \"2007\", \"Type\": \"Permanent\", \"Extent\": 1043.0431097628334}, {\"Year\": \"2008\", \"Type\": \"Permanent\", \"Extent\": 1011.261673526927}, {\"Year\": \"2009\", \"Type\": \"Permanent\", \"Extent\": 2127.800168832496}, {\"Year\": \"2010\", \"Type\": \"Permanent\", \"Extent\": 1841.9548452647186}, {\"Year\": \"2011\", \"Type\": \"Permanent\", \"Extent\": 2175.5111464929555}, {\"Year\": \"2012\", \"Type\": \"Permanent\", \"Extent\": 1882.5780941592998}, {\"Year\": \"2013\", \"Type\": \"Permanent\", \"Extent\": 2190.0414855253025}, {\"Year\": \"2014\", \"Type\": \"Permanent\", \"Extent\": 2181.177785901833}, {\"Year\": \"2015\", \"Type\": \"Permanent\", \"Extent\": 2228.500009378089}, {\"Year\": \"2016\", \"Type\": \"Permanent\", \"Extent\": 2156.2480118829517}, {\"Year\": \"2017\", \"Type\": \"Permanent\", \"Extent\": 2132.501176199379}, {\"Year\": \"2018\", \"Type\": \"Permanent\", \"Extent\": 2143.3430405456834}, {\"Year\": \"2019\", \"Type\": \"Permanent\", \"Extent\": 2122.2955971867377}]}}, {\"mode\": \"vega-lite\"});\n",
              "</script>"
            ],
            "text/plain": [
              "alt.Chart(...)"
            ]
          },
          "execution_count": 15,
          "metadata": {},
          "output_type": "execute_result"
        }
      ],
      "source": [
        "# Visualise total UK area of water types by year\n",
        "water_type_melt = pd.melt(water_type_by_year[water_type_by_year['Year']!='baseline'], id_vars=['Year'],\n",
        "                          value_vars=['Ephemeral', 'Seasonal', 'Permanent'],\n",
        "                          var_name='Type', value_name = 'Extent')\n",
        "\n",
        "alt.Chart(water_type_melt).mark_bar(opacity=0.7).encode(\n",
        "    x=alt.X('Year:N', title = 'Year'),\n",
        "    y=alt.Y('sum(Extent)', title = 'Water Extent (km\\N{SUPERSCRIPT TWO})'),\n",
        "    color=alt.Color('Type',\n",
        "        scale = alt.Scale(domain=['Permanent', 'Ephemeral', 'Seasonal'],\n",
        "                          range=['#1f78b4', '#b2df8a', '#a6cee3']),\n",
        "        title = 'Water Type'),\n",
        "    order=alt.Order('sum(Type)',sort='ascending'),\n",
        "    tooltip = ['Year:N', \n",
        "               alt.Tooltip('Extent:Q', title = 'Extent')]\n",
        ").interactive()"
      ]
    },
    {
      "cell_type": "code",
      "execution_count": null,
      "metadata": {
        "id": "u56d57GEe7s4"
      },
      "outputs": [],
      "source": [
        "# Recalculate percentage breakdown\n",
        "water_type_by_year['HYBAS_ID'] = 'Total'\n",
        "water_type_by_year[['% Ephemeral', '% Seasonal', '% Permanent']] = water_type_by_year[['Ephemeral', 'Seasonal', 'Permanent']].div(water_type_by_year['area'], axis=0)*100\n",
        "water_type_by_basin = water_extent.append(water_type_by_year, sort=False, ignore_index = True)"
      ]
    },
    {
      "cell_type": "code",
      "execution_count": null,
      "metadata": {
        "id": "aYlZff_r_tNc"
      },
      "outputs": [],
      "source": [
        "# Export result\n",
        "water_type_by_basin.to_csv(water_extent_file, header = True, index = False) "
      ]
    },
    {
      "cell_type": "markdown",
      "metadata": {
        "id": "13YVCsgne7s5"
      },
      "source": [
        "---\n",
        "\n",
        "## Percentage Extent Change"
      ]
    },
    {
      "cell_type": "code",
      "execution_count": null,
      "metadata": {
        "id": "dUmwfbtre7s5"
      },
      "outputs": [],
      "source": [
        "# Load the water extent file\n",
        "water_extent_df = pd.read_csv(water_extent_file)\n",
        "water_extent_df = water_extent_df[['HYBAS_ID', 'Year', 'Ephemeral', 'Seasonal', 'Permanent']]"
      ]
    },
    {
      "cell_type": "code",
      "execution_count": null,
      "metadata": {
        "id": "MUZKWnQFe7s6",
        "scrolled": false
      },
      "outputs": [],
      "source": [
        "# Calculate change from baseline period\n",
        "cols = [ 'Water Type', 'HYBAS_ID','Year', 'Average Extent', '% Extent Change']\n",
        "water_extent_change = pd.DataFrame(columns = cols)\n",
        "\n",
        "\n",
        "def get_year_range(from_year):\n",
        "    to_year = str(int(from_year)+4)\n",
        "    return f\"{from_year}-{to_year}\"\n",
        "\n",
        "\n",
        "for basin in water_extent_df['HYBAS_ID'].unique():\n",
        "    hydrobasin_extent = water_extent_df[water_extent_df['HYBAS_ID']==basin]\n",
        "    \n",
        "    ## Seperate hydrobasin and baseline\n",
        "    baseline = hydrobasin_extent[hydrobasin_extent['Year']=='baseline'].reset_index(drop=True)\n",
        "    hydrobasin_extent = hydrobasin_extent[hydrobasin_extent['Year']!='baseline']  \n",
        "\n",
        "    ## Create rolling average\n",
        "    rolling_av = (hydrobasin_extent[['Ephemeral', 'Seasonal', 'Permanent']]\n",
        "                  .rolling(5)\n",
        "                  .mean()\n",
        "                  .dropna()\n",
        "                 .reset_index(drop=True))\n",
        "    \n",
        "    rolling_av['HYBAS_ID'] = basin\n",
        "    rolling_av['Year'] = hydrobasin_extent.apply(lambda x :get_year_range(x[\"Year\"]), axis=1).reset_index(drop=True)[:-4]\n",
        "    \n",
        "    ## Melt and index both rolling and baseline with water type\n",
        "    rolling_melt = pd.melt(rolling_av, id_vars=['HYBAS_ID', 'Year'], value_vars=['Ephemeral', 'Seasonal', 'Permanent'],\n",
        "                          var_name='Water Type', value_name='Average Extent').set_index(['Water Type', 'Year'])\n",
        "    \n",
        "    baseline_melt = pd.melt(baseline, id_vars=['HYBAS_ID', 'Year'], value_vars=['Ephemeral', 'Seasonal', 'Permanent'],\n",
        "                          var_name='Water Type', value_name='Average Extent').set_index('Water Type')\n",
        "    \n",
        "    ## Calculate extent change - index will divide the rolling average by the correct water type\n",
        "    extent_change = (((rolling_melt['Average Extent']-baseline_melt['Average Extent'])\n",
        "                     /baseline_melt['Average Extent']*100).reset_index()['Average Extent'])\n",
        "    rolling_melt = rolling_melt.reset_index()\n",
        "    \n",
        "    rolling_melt['% Extent Change'] = extent_change\n",
        "    \n",
        "    water_extent_change = pd.concat([water_extent_change, rolling_melt, baseline_melt.reset_index()])\n"
      ]
    },
    {
      "cell_type": "code",
      "execution_count": null,
      "metadata": {
        "id": "eM145Dw6e7s6"
      },
      "outputs": [],
      "source": [
        "## we should exclude years where the GSWE data is marred by cloud cover\n",
        "exclude_years = [str(i) for i in list(range(1991, 1998)) + list(range(2004,2009))]\n",
        "water_extent_change = water_extent_change[~water_extent_change['Year'].str.contains('|'.join(exclude_years))]"
      ]
    },
    {
      "cell_type": "code",
      "execution_count": null,
      "metadata": {
        "id": "z9GBjmQTe7s7"
      },
      "outputs": [],
      "source": [
        "# Export result\n",
        "water_extent_change.to_csv(water_extent_change_file, index = False)"
      ]
    }
  ],
  "metadata": {
    "colab": {
      "collapsed_sections": [],
      "name": "UK_reporting.ipynb",
      "provenance": []
    },
    "kernelspec": {
      "display_name": "Python 3",
      "language": "python",
      "name": "python3"
    },
    "language_info": {
      "codemirror_mode": {
        "name": "ipython",
        "version": 3
      },
      "file_extension": ".py",
      "mimetype": "text/x-python",
      "name": "python",
      "nbconvert_exporter": "python",
      "pygments_lexer": "ipython3",
      "version": "3.8.2"
    }
  },
  "nbformat": 4,
  "nbformat_minor": 0
}